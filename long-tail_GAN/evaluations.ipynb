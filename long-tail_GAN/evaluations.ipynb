{
 "cells": [
  {
   "cell_type": "markdown",
   "id": "statutory-migration",
   "metadata": {},
   "source": [
    "# This notebook is used to compute popularity bias measure metrics"
   ]
  },
  {
   "cell_type": "code",
   "execution_count": 1,
   "id": "precise-petroleum",
   "metadata": {},
   "outputs": [],
   "source": [
    "import os\n",
    "import shutil\n",
    "import sys\n",
    "import numpy as np\n",
    "from scipy import sparse\n",
    "import pandas as pd\n",
    "import scipy.stats\n",
    "\n",
    "from support_func import *\n",
    "from evaluation_func import *"
   ]
  },
  {
   "cell_type": "code",
   "execution_count": 23,
   "id": "local-grocery",
   "metadata": {},
   "outputs": [],
   "source": [
    "raw_data = pd.read_csv('../raw_data/ml-1m/ratings.csv', header=0)\n",
    "sorted_movieId = pd.read_csv('../processed_data/sorted_movieId.csv',header=None,index_col=0)\n",
    "unique_sid = pd.unique(raw_data['movieId'])"
   ]
  },
  {
   "cell_type": "code",
   "execution_count": 24,
   "id": "noticed-flashing",
   "metadata": {},
   "outputs": [],
   "source": [
    "id2show = dict((i, sid) for (i, sid) in enumerate(unique_sid)) "
   ]
  },
  {
   "cell_type": "code",
   "execution_count": 25,
   "id": "political-combination",
   "metadata": {},
   "outputs": [],
   "source": [
    "def top_k_recList(predictions, id2show, k=10):\n",
    "    n_users = predictions.shape[0]\n",
    "    topk_movieId = []\n",
    "    idx_topk_part = bn.argpartition(-predictions, k, axis=1)[:,:k].tolist()\n",
    "    for i_pred in idx_topk_part:\n",
    "        topk_movieId.append(list(map(lambda x: id2show[x], i_pred)))\n",
    "    return topk_movieId"
   ]
  },
  {
   "cell_type": "code",
   "execution_count": 11,
   "id": "accomplished-texture",
   "metadata": {},
   "outputs": [],
   "source": [
    "# read the corresponding user group with their taste distribution\n",
    "G1_user = pd.read_csv('../processed_data/group_data/G1_user.csv',header=0,index_col=0)\n",
    "G2_user = pd.read_csv('../processed_data/group_data/G2_user.csv',header=0,index_col=0)\n",
    "G3_user = pd.read_csv('../processed_data/group_data/G3_user.csv',header=0,index_col=0)"
   ]
  },
  {
   "cell_type": "markdown",
   "id": "egyptian-entry",
   "metadata": {},
   "source": [
    "Replace the path to saved prediction results and repeat the following cells"
   ]
  },
  {
   "cell_type": "code",
   "execution_count": 54,
   "id": "blessed-wings",
   "metadata": {},
   "outputs": [],
   "source": [
    "path2results = 'results/ml_1m_holdout_user_LT_GAN_100.0_0.0001/'"
   ]
  },
  {
   "cell_type": "code",
   "execution_count": 55,
   "id": "ancient-elements",
   "metadata": {},
   "outputs": [],
   "source": [
    "pred_all_test = np.loadtxt(path2results +'pred_all_test.txt')"
   ]
  },
  {
   "cell_type": "code",
   "execution_count": 56,
   "id": "round-jones",
   "metadata": {},
   "outputs": [],
   "source": [
    "topk_all_test = top_k_recList(pred_all_test,id2show)\n",
    "topk_all_test = pd.DataFrame(topk_all_test, columns = range(1,11))"
   ]
  },
  {
   "cell_type": "code",
   "execution_count": 57,
   "id": "simple-trail",
   "metadata": {},
   "outputs": [
    {
     "name": "stdout",
     "output_type": "stream",
     "text": [
      "ARP@10: 0.2394, Agg-Div@10: 0.3160\n"
     ]
    }
   ],
   "source": [
    "ARP_at_10 = ARP(topk_all_test,sorted_movieId)\n",
    "Agg_Div_at_10 = Agg_Div(topk_all_test,sorted_movieId)\n",
    "print('ARP@10: {0:.4f}, Agg-Div@10: {1:.4f}'.format(ARP_at_10,Agg_Div_at_10))"
   ]
  },
  {
   "cell_type": "code",
   "execution_count": 58,
   "id": "downtown-mobile",
   "metadata": {},
   "outputs": [],
   "source": [
    "unique_uid = np.loadtxt(path2results +'user_li.txt')"
   ]
  },
  {
   "cell_type": "code",
   "execution_count": 59,
   "id": "lined-aruba",
   "metadata": {},
   "outputs": [],
   "source": [
    "id2profile = dict((i, uid) for (i, uid) in enumerate(unique_uid)) "
   ]
  },
  {
   "cell_type": "code",
   "execution_count": 60,
   "id": "considered-ballet",
   "metadata": {},
   "outputs": [],
   "source": [
    "topk_all_test['userId'] = list(map(lambda x: id2profile[x], topk_all_test.index))"
   ]
  },
  {
   "cell_type": "code",
   "execution_count": 61,
   "id": "auburn-nature",
   "metadata": {},
   "outputs": [],
   "source": [
    "G1_topk = topk_all_test[topk_all_test['userId'].isin(G1_user.index)]\n",
    "G2_topk = topk_all_test[topk_all_test['userId'].isin(G2_user.index)]\n",
    "G3_topk = topk_all_test[topk_all_test['userId'].isin(G3_user.index)]"
   ]
  },
  {
   "cell_type": "code",
   "execution_count": 62,
   "id": "sound-index",
   "metadata": {},
   "outputs": [
    {
     "name": "stdout",
     "output_type": "stream",
     "text": [
      "ARP@10: 0.2358, Agg-Div@10: 0.2129\n",
      "ARP@10: 0.2413, Agg-Div@10: 0.2858\n",
      "ARP@10: 0.2380, Agg-Div@10: 0.2016\n"
     ]
    }
   ],
   "source": [
    "for topk_rec in [G1_topk, G2_topk, G3_topk]:\n",
    "    ARP_at_10 = ARP(topk_rec[range(1,11)],sorted_movieId)\n",
    "    Agg_Div_at_10 = Agg_Div(topk_rec[range(1,11)],sorted_movieId)\n",
    "    print('ARP@10: {0:.4f}, Agg-Div@10: {1:.4f}'.format(ARP_at_10,Agg_Div_at_10))"
   ]
  },
  {
   "cell_type": "code",
   "execution_count": 63,
   "id": "wrong-party",
   "metadata": {},
   "outputs": [],
   "source": [
    "G1_topk.to_csv(path2results + 'G1_topk.csv',header=True, index=True)\n",
    "G2_topk.to_csv(path2results +'G2_topk.csv',header=True, index=True)\n",
    "G3_topk.to_csv(path2results +'G3_topk.csv',header=True, index=True)"
   ]
  },
  {
   "cell_type": "code",
   "execution_count": 64,
   "id": "killing-picture",
   "metadata": {},
   "outputs": [],
   "source": [
    "G1_user_taste = G1_user.loc[G1_topk['userId']].to_numpy()\n",
    "G2_user_taste = G2_user.loc[G2_topk['userId']].to_numpy()\n",
    "G3_user_taste = G3_user.loc[G3_topk['userId']].to_numpy()"
   ]
  },
  {
   "cell_type": "markdown",
   "id": "hybrid-surgery",
   "metadata": {},
   "source": [
    "The user taset of different group is manually computed using Excel. The idea of this computation is to find the probaility of each category of movies which presented in the recommendations list for users."
   ]
  },
  {
   "cell_type": "code",
   "execution_count": 65,
   "id": "focused-bulgaria",
   "metadata": {},
   "outputs": [],
   "source": [
    "G1_rec_taste = pd.read_csv(path2results +'G1_rec_taste.csv',header=None).to_numpy()\n",
    "G2_rec_taste = pd.read_csv(path2results +'G2_rec_taste.csv',header=None).to_numpy()\n",
    "G3_rec_taste = pd.read_csv(path2results +'G3_rec_taste.csv',header=None).to_numpy()"
   ]
  },
  {
   "cell_type": "code",
   "execution_count": 66,
   "id": "contrary-limit",
   "metadata": {},
   "outputs": [
    {
     "name": "stdout",
     "output_type": "stream",
     "text": [
      "G1 UDP:0.1964\n",
      "G2 UDP:0.1356\n",
      "G3 UDP:0.1483\n"
     ]
    }
   ],
   "source": [
    "print('G1 UDP:{0:.4f}'.format(group_UDP(G1_user_taste,G1_rec_taste)))\n",
    "print('G2 UDP:{0:.4f}'.format(group_UDP(G2_user_taste,G2_rec_taste)))\n",
    "print('G3 UDP:{0:.4f}'.format(group_UDP(G3_user_taste,G3_rec_taste)))"
   ]
  },
  {
   "cell_type": "code",
   "execution_count": null,
   "id": "italic-assessment",
   "metadata": {},
   "outputs": [],
   "source": []
  }
 ],
 "metadata": {
  "kernelspec": {
   "display_name": "Python 3",
   "language": "python",
   "name": "python3"
  },
  "language_info": {
   "codemirror_mode": {
    "name": "ipython",
    "version": 3
   },
   "file_extension": ".py",
   "mimetype": "text/x-python",
   "name": "python",
   "nbconvert_exporter": "python",
   "pygments_lexer": "ipython3",
   "version": "3.7.9"
  }
 },
 "nbformat": 4,
 "nbformat_minor": 5
}
