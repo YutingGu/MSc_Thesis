{
 "cells": [
  {
   "cell_type": "code",
   "execution_count": 1,
   "id": "equipped-lancaster",
   "metadata": {
    "scrolled": true
   },
   "outputs": [],
   "source": [
    "import csv\n",
    "import os\n",
    "\n",
    "DATA_DIR = 'raw_data/ml-1m/'\n",
    "datPATH = os.path.join(DATA_DIR, 'ratings.dat')\n",
    "# read flash.dat to a list of lists\n",
    "datContent = [i.strip().split() for i in open(datPATH).readlines()]\n",
    "\n",
    "# write it as a new CSV file\n",
    "csvPATH = os.path.join(DATA_DIR, 'ratings.csv')\n",
    "with open(csvPATH, \"w\", newline=\"\") as f:\n",
    "    writer = csv.writer(f)\n",
    "    writer.writerow(['userId','movieId','rating','timestamp'])\n",
    "    csvContent = []\n",
    "    \n",
    "    for i in range(len(datContent)):\n",
    "        datRow = datContent[i][0].split('::')\n",
    "        datRow = [int(x) for x in datRow]\n",
    "        csvContent.append(datRow)\n",
    "        \n",
    "    writer.writerows(csvContent)"
   ]
  }
 ],
 "metadata": {
  "kernelspec": {
   "display_name": "Python 3",
   "language": "python",
   "name": "python3"
  },
  "language_info": {
   "codemirror_mode": {
    "name": "ipython",
    "version": 3
   },
   "file_extension": ".py",
   "mimetype": "text/x-python",
   "name": "python",
   "nbconvert_exporter": "python",
   "pygments_lexer": "ipython3",
   "version": "3.7.9"
  }
 },
 "nbformat": 4,
 "nbformat_minor": 5
}
