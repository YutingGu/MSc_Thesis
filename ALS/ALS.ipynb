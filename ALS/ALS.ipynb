{
 "cells": [
  {
   "cell_type": "code",
   "execution_count": 1,
   "id": "reflected-pharmacology",
   "metadata": {},
   "outputs": [],
   "source": [
    "import os\n",
    "import pandas as pd\n",
    "import numpy as np\n",
    "import scipy.stats\n",
    "from recommend.als import ALS\n",
    "from utils.utils import run_time\n",
    "from evaluation_func import *"
   ]
  },
  {
   "cell_type": "code",
   "execution_count": 27,
   "id": "intensive-payday",
   "metadata": {},
   "outputs": [],
   "source": [
    "data_train_load = pd.read_csv('../processed_data/group_data/data_train.csv',header=None, names=['userId', 'movieId','rating'])\n",
    "data_test_load = pd.read_csv('../processed_data/group_data/data_test.csv',header=None, names=['userId', 'movieId','rating'])\n",
    "sorted_movieId = pd.read_csv('../processed_data/group_data/sorted_movieId.csv',header=None,index_col=0)"
   ]
  },
  {
   "cell_type": "code",
   "execution_count": 90,
   "id": "daily-coordinator",
   "metadata": {},
   "outputs": [],
   "source": [
    "# 原始数据集：save the corrsponding rating of users from each user group\n",
    "#G1_ratings_full = pd.read_csv('processed_data/G1_ratings_full.csv',header=False, names=['userId', 'movieId','rating'])\n",
    "#G2_ratings_full = pd.read_csv('processed_data/G2_ratings_full.csv',header=False, names=['userId', 'movieId','rating'])\n",
    "#G3_ratings_full = pd.read_csv('processed_data/G3_ratings_full.csv',header=False, names=['userId', 'movieId','rating'])\n",
    "# 训练集：save the corrsponding rating of users from each user group\n",
    "G1_ratings_train = pd.read_csv('../processed_data/group_data/G1_ratings_train.csv',header=None, names=['userId', 'movieId','rating'])\n",
    "G2_ratings_train = pd.read_csv('../processed_data/group_data/G2_ratings_train.csv',header=None, names=['userId', 'movieId','rating'])\n",
    "G3_ratings_train = pd.read_csv('../processed_data/G3_ratings_train.csv',header=None, names=['userId', 'movieId','rating'])\n",
    "# 测试集：save the corrsponding rating of users from each user group\n",
    "G1_ratings_test = pd.read_csv('../processed_data/group_data/G1_ratings_test.csv',header=None, names=['userId', 'movieId','rating'])\n",
    "G2_ratings_test = pd.read_csv('../processed_data/group_data/G2_ratings_test.csv',header=None, names=['userId', 'movieId','rating'])\n",
    "G3_ratings_test = pd.read_csv('../processed_data/group_data/G3_ratings_test.csv',header=None, names=['userId', 'movieId','rating'])"
   ]
  },
  {
   "cell_type": "code",
   "execution_count": 91,
   "id": "international-error",
   "metadata": {},
   "outputs": [],
   "source": [
    "data_train_load = data_train_load.to_numpy().tolist()\n",
    "G1_ratings_train = G1_ratings_train.to_numpy().tolist()\n",
    "G2_ratings_train = G2_ratings_train.to_numpy().tolist()\n",
    "G3_ratings_train = G3_ratings_train.to_numpy().tolist()\n",
    "userId_test = data_test_load['userId'].drop_duplicates().to_numpy()\n",
    "userId_G1_test = G1_ratings_test['userId'].drop_duplicates().to_numpy()\n",
    "userId_G2_test = G2_ratings_test['userId'].drop_duplicates().to_numpy()\n",
    "userId_G3_test = G3_ratings_test['userId'].drop_duplicates().to_numpy()"
   ]
  },
  {
   "cell_type": "code",
   "execution_count": 93,
   "id": "quick-greece",
   "metadata": {},
   "outputs": [
    {
     "name": "stdout",
     "output_type": "stream",
     "text": [
      "Iterations: 1, RMSE: 3.371172\n",
      "Iterations: 2, RMSE: 0.582598\n",
      "Iterations: 3, RMSE: 0.557423\n",
      "Iterations: 4, RMSE: 0.547464\n",
      "Iterations: 5, RMSE: 0.543755\n"
     ]
    }
   ],
   "source": [
    "# 在完整训练数据集上训练模型\n",
    "model_full = ALS()\n",
    "model_full.fit(data_train_load, k=5, max_iter=5)"
   ]
  },
  {
   "cell_type": "code",
   "execution_count": 94,
   "id": "acting-shell",
   "metadata": {},
   "outputs": [
    {
     "name": "stdout",
     "output_type": "stream",
     "text": [
      "Iterations: 1, RMSE: 3.515243\n",
      "Iterations: 2, RMSE: 0.503536\n",
      "Iterations: 3, RMSE: 0.488565\n",
      "Iterations: 4, RMSE: 0.480616\n",
      "Iterations: 5, RMSE: 0.477763\n"
     ]
    }
   ],
   "source": [
    "# 分别在各组用户的训练数据集上训练模型\n",
    "# G1\n",
    "model_G1 = ALS()\n",
    "model_G1.fit(G1_ratings_train, k=5, max_iter=5)"
   ]
  },
  {
   "cell_type": "code",
   "execution_count": 95,
   "id": "advisory-management",
   "metadata": {},
   "outputs": [
    {
     "name": "stdout",
     "output_type": "stream",
     "text": [
      "Iterations: 1, RMSE: 3.399920\n",
      "Iterations: 2, RMSE: 0.586731\n",
      "Iterations: 3, RMSE: 0.569848\n",
      "Iterations: 4, RMSE: 0.560122\n",
      "Iterations: 5, RMSE: 0.554834\n"
     ]
    }
   ],
   "source": [
    "# 分别在各组用户的训练数据集上训练模型\n",
    "# G2\n",
    "model_G2 = ALS()\n",
    "model_G2.fit(G2_ratings_train, k=5, max_iter=5)"
   ]
  },
  {
   "cell_type": "code",
   "execution_count": 96,
   "id": "inner-economics",
   "metadata": {},
   "outputs": [
    {
     "name": "stdout",
     "output_type": "stream",
     "text": [
      "Iterations: 1, RMSE: 3.181101\n",
      "Iterations: 2, RMSE: 0.714495\n",
      "Iterations: 3, RMSE: 0.687325\n",
      "Iterations: 4, RMSE: 0.670271\n",
      "Iterations: 5, RMSE: 0.662476\n"
     ]
    }
   ],
   "source": [
    "# 分别在各组用户的训练数据集上训练模型\n",
    "# G3\n",
    "model_G3 = ALS()\n",
    "model_G3.fit(G3_ratings_train, k=5, max_iter=5)"
   ]
  },
  {
   "cell_type": "code",
   "execution_count": 97,
   "id": "acknowledged-infrared",
   "metadata": {},
   "outputs": [
    {
     "name": "stdout",
     "output_type": "stream",
     "text": [
      "finish recommendation\n"
     ]
    }
   ],
   "source": [
    "# 完整训练集训练出来的模型，分别在全集用户 + 各组用户中的推荐\n",
    "pred_mfull_dfull = model_full.predict_list(userId_test)\n",
    "pred_mfull_dG1 = model_full.predict_list(userId_G1_test)\n",
    "pred_mfull_dG2 = model_full.predict_list(userId_G2_test)\n",
    "pred_mfull_dG3 = model_full.predict_list(userId_G3_test)\n",
    "print('finish recommendation')"
   ]
  },
  {
   "cell_type": "code",
   "execution_count": 98,
   "id": "ahead-trouble",
   "metadata": {},
   "outputs": [
    {
     "name": "stdout",
     "output_type": "stream",
     "text": [
      "finish recommendation\n"
     ]
    }
   ],
   "source": [
    "# 各组训练集训练出来的模型，分别在各组用户中的推荐\n",
    "pred_mG1_dG1 = model_G1.predict_list(userId_G1_test)\n",
    "pred_mG2_dG2 = model_G2.predict_list(userId_G2_test)\n",
    "pred_mG3_dG3 = model_G3.predict_list(userId_G3_test)\n",
    "print('finish recommendation')"
   ]
  },
  {
   "cell_type": "code",
   "execution_count": 99,
   "id": "continuous-bandwidth",
   "metadata": {},
   "outputs": [],
   "source": [
    "pred_mfull_dfull = pd.DataFrame(pred_mfull_dfull,index = userId_test,columns = range(1,11))\n",
    "pred_mfull_dG1 = pd.DataFrame(pred_mfull_dG1,index = userId_G1_test,columns = range(1,11))\n",
    "pred_mfull_dG2 = pd.DataFrame(pred_mfull_dG2,index = userId_G2_test,columns = range(1,11))\n",
    "pred_mfull_dG3 = pd.DataFrame(pred_mfull_dG3,index = userId_G3_test,columns = range(1,11))\n",
    "pred_mG1_dG1 = pd.DataFrame(pred_mG1_dG1,index = userId_G1_test,columns = range(1,11))\n",
    "pred_mG2_dG2 = pd.DataFrame(pred_mG2_dG2,index = userId_G2_test,columns = range(1,11))\n",
    "pred_mG3_dG3 = pd.DataFrame(pred_mG3_dG3,index = userId_G3_test,columns = range(1,11))"
   ]
  },
  {
   "cell_type": "code",
   "execution_count": 100,
   "id": "communist-mailman",
   "metadata": {},
   "outputs": [],
   "source": [
    "pred_mfull_dfull.to_csv('predictions/pred_mfull_dfull.csv',header=True, index=True)\n",
    "pred_mfull_dG1.to_csv('predictions/pred_mfull_dG1.csv',header=True, index=True)\n",
    "pred_mfull_dG2.to_csv('predictions/pred_mfull_dG2.csv',header=True, index=True)\n",
    "pred_mfull_dG3.to_csv('predictions/pred_mfull_dG3.csv',header=True, index=True)\n",
    "pred_mG1_dG1.to_csv('predictions/pred_mG1_dG1.csv',header=True, index=True)\n",
    "pred_mG2_dG2.to_csv('predictions/pred_mG2_dG2.csv',header=True, index=True)\n",
    "pred_mG3_dG3.to_csv('predictions/pred_mG3_dG3.csv',header=True, index=True)"
   ]
  },
  {
   "cell_type": "markdown",
   "id": "existing-damage",
   "metadata": {},
   "source": [
    "# Evaluation"
   ]
  },
  {
   "cell_type": "code",
   "execution_count": 10,
   "id": "narrow-invention",
   "metadata": {},
   "outputs": [],
   "source": [
    "pred_mfull_dfull = pd.read_csv('predictions/pred_mfull_dfull.csv',header=0, index_col=0)\n",
    "pred_mfull_dG1 = pd.read_csv('predictions/pred_mfull_dG1.csv',header=0, index_col=0)\n",
    "pred_mfull_dG2 = pd.read_csv('predictions/pred_mfull_dG2.csv',header=0, index_col=0)\n",
    "pred_mfull_dG3 = pd.read_csv('predictions/pred_mfull_dG3.csv',header=0, index_col=0)\n",
    "pred_mG1_dG1 = pd.read_csv('predictions/pred_mG1_dG1.csv',header=0, index_col=0)\n",
    "pred_mG2_dG2 = pd.read_csv('predictions/pred_mG2_dG2.csv',header=0, index_col=0)\n",
    "pred_mG3_dG3 = pd.read_csv('predictions/pred_mG3_dG3.csv',header=0, index_col=0)\n",
    "sorted_movieId = pd.read_csv('../processed_data/sorted_movieId.csv',header=None,index_col=0)"
   ]
  },
  {
   "cell_type": "code",
   "execution_count": 11,
   "id": "aboriginal-danish",
   "metadata": {},
   "outputs": [],
   "source": [
    "ARP_mfull_dfull = ARP(pred_mfull_dfull,sorted_movieId)\n",
    "ARP_mfull_dG1 = ARP(pred_mfull_dG1,sorted_movieId)\n",
    "ARP_mfull_dG2 = ARP(pred_mfull_dG2,sorted_movieId)\n",
    "ARP_mfull_dG3 = ARP(pred_mfull_dG3,sorted_movieId)"
   ]
  },
  {
   "cell_type": "code",
   "execution_count": 12,
   "id": "returning-ground",
   "metadata": {},
   "outputs": [],
   "source": [
    "Agg_Div_mfull_dfull = Agg_Div(pred_mfull_dfull,sorted_movieId)\n",
    "Agg_Div_mfull_dG1 = Agg_Div(pred_mfull_dG1,sorted_movieId)\n",
    "Agg_Div_mfull_dG2 = Agg_Div(pred_mfull_dG2,sorted_movieId)\n",
    "Agg_Div_mfull_dG3 = Agg_Div(pred_mfull_dG3,sorted_movieId)"
   ]
  },
  {
   "cell_type": "code",
   "execution_count": 13,
   "id": "challenging-sender",
   "metadata": {},
   "outputs": [
    {
     "name": "stdout",
     "output_type": "stream",
     "text": [
      "[overall] ARP@10: 0.6893, Agg-Div@10: 0.0696\n",
      "[G1] ARP@10: 0.7348, Agg-Div@10: 0.0370\n",
      "[G2] ARP@10: 0.6952, Agg-Div@10: 0.0594\n",
      "[G3] ARP@10: 0.6262, Agg-Div@10: 0.0666\n"
     ]
    }
   ],
   "source": [
    "print('[overall] ARP@10: {0:.4f}, Agg-Div@10: {1:.4f}'.format(ARP_mfull_dfull,Agg_Div_mfull_dfull))\n",
    "print('[G1] ARP@10: {0:.4f}, Agg-Div@10: {1:.4f}'.format(ARP_mfull_dG1,Agg_Div_mfull_dG1))\n",
    "print('[G2] ARP@10: {0:.4f}, Agg-Div@10: {1:.4f}'.format(ARP_mfull_dG2,Agg_Div_mfull_dG2))\n",
    "print('[G3] ARP@10: {0:.4f}, Agg-Div@10: {1:.4f}'.format(ARP_mfull_dG3,Agg_Div_mfull_dG3))"
   ]
  },
  {
   "cell_type": "code",
   "execution_count": 14,
   "id": "copyrighted-vertex",
   "metadata": {
    "scrolled": true
   },
   "outputs": [
    {
     "name": "stdout",
     "output_type": "stream",
     "text": [
      "the average popularity of all movies:  0.0787307756005737\n"
     ]
    }
   ],
   "source": [
    "print('the average popularity of all movies: ', float(np.mean(sorted_movieId)))"
   ]
  },
  {
   "cell_type": "code",
   "execution_count": 3,
   "id": "brilliant-matrix",
   "metadata": {},
   "outputs": [],
   "source": [
    "# read the corresponding user group with their taste distribution\n",
    "G1_user_taste = pd.read_csv('../processed_data/group_data/G1_user.csv',header=0,index_col=0).to_numpy()\n",
    "G2_user_taste = pd.read_csv('../processed_data/group_data/G2_user.csv',header=0,index_col=0).to_numpy()\n",
    "G3_user_taste = pd.read_csv('../processed_data/group_data/G3_user.csv',header=0,index_col=0).to_numpy()"
   ]
  },
  {
   "cell_type": "code",
   "execution_count": 4,
   "id": "authentic-worship",
   "metadata": {},
   "outputs": [],
   "source": [
    "G1_rec_taste = pd.read_csv('predictions/G1_rec_taste.csv',header=None).to_numpy()\n",
    "G2_rec_taste = pd.read_csv('predictions/G2_rec_taste.csv',header=None).to_numpy()\n",
    "G3_rec_taste = pd.read_csv('predictions/G3_rec_taste.csv',header=None).to_numpy()"
   ]
  },
  {
   "cell_type": "code",
   "execution_count": 8,
   "id": "acting-fight",
   "metadata": {},
   "outputs": [
    {
     "name": "stdout",
     "output_type": "stream",
     "text": [
      "G1 UDP:0.2294\n",
      "G2 UDP:0.3299\n",
      "G3 UDP:0.3700\n"
     ]
    }
   ],
   "source": [
    "print('G1 UDP:{0:.4f}'.format(group_UDP(G1_user_taste,G1_rec_taste)))\n",
    "print('G2 UDP:{0:.4f}'.format(group_UDP(G2_user_taste,G2_rec_taste)))\n",
    "print('G3 UDP:{0:.4f}'.format(group_UDP(G3_user_taste,G3_rec_taste)))"
   ]
  }
 ],
 "metadata": {
  "kernelspec": {
   "display_name": "Python 3",
   "language": "python",
   "name": "python3"
  },
  "language_info": {
   "codemirror_mode": {
    "name": "ipython",
    "version": 3
   },
   "file_extension": ".py",
   "mimetype": "text/x-python",
   "name": "python",
   "nbconvert_exporter": "python",
   "pygments_lexer": "ipython3",
   "version": "3.7.9"
  }
 },
 "nbformat": 4,
 "nbformat_minor": 5
}
