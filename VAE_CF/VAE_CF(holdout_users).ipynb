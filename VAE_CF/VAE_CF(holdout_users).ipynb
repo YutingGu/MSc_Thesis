{
 "cells": [
  {
   "cell_type": "markdown",
   "metadata": {},
   "source": [
    "# VAE-CF (holdout 20% users)\n",
    "## This notebook uses the dataset split approach which ratings of 20% users holdout as test set.\n",
    "If a warning \"FutureWarning: Passing (type, 1)or '1type' as a synonym of type is deprecated; in a future version of numpy, it will be understood as (type, (1,)) / '(1,)type'.\" happens, it is caused by the newer version of numpy which is not consistant with tensorflow. This error can be ignored and will not affect the excution."
   ]
  },
  {
   "cell_type": "code",
   "execution_count": 2,
   "metadata": {},
   "outputs": [
    {
     "name": "stderr",
     "output_type": "stream",
     "text": [
      "/opt/conda/lib/python3.7/site-packages/tensorflow/python/framework/dtypes.py:516: FutureWarning: Passing (type, 1) or '1type' as a synonym of type is deprecated; in a future version of numpy, it will be understood as (type, (1,)) / '(1,)type'.\n",
      "  _np_qint8 = np.dtype([(\"qint8\", np.int8, 1)])\n",
      "/opt/conda/lib/python3.7/site-packages/tensorflow/python/framework/dtypes.py:517: FutureWarning: Passing (type, 1) or '1type' as a synonym of type is deprecated; in a future version of numpy, it will be understood as (type, (1,)) / '(1,)type'.\n",
      "  _np_quint8 = np.dtype([(\"quint8\", np.uint8, 1)])\n",
      "/opt/conda/lib/python3.7/site-packages/tensorflow/python/framework/dtypes.py:518: FutureWarning: Passing (type, 1) or '1type' as a synonym of type is deprecated; in a future version of numpy, it will be understood as (type, (1,)) / '(1,)type'.\n",
      "  _np_qint16 = np.dtype([(\"qint16\", np.int16, 1)])\n",
      "/opt/conda/lib/python3.7/site-packages/tensorflow/python/framework/dtypes.py:519: FutureWarning: Passing (type, 1) or '1type' as a synonym of type is deprecated; in a future version of numpy, it will be understood as (type, (1,)) / '(1,)type'.\n",
      "  _np_quint16 = np.dtype([(\"quint16\", np.uint16, 1)])\n",
      "/opt/conda/lib/python3.7/site-packages/tensorflow/python/framework/dtypes.py:520: FutureWarning: Passing (type, 1) or '1type' as a synonym of type is deprecated; in a future version of numpy, it will be understood as (type, (1,)) / '(1,)type'.\n",
      "  _np_qint32 = np.dtype([(\"qint32\", np.int32, 1)])\n",
      "/opt/conda/lib/python3.7/site-packages/tensorflow/python/framework/dtypes.py:525: FutureWarning: Passing (type, 1) or '1type' as a synonym of type is deprecated; in a future version of numpy, it will be understood as (type, (1,)) / '(1,)type'.\n",
      "  np_resource = np.dtype([(\"resource\", np.ubyte, 1)])\n",
      "/opt/conda/lib/python3.7/site-packages/tensorboard/compat/tensorflow_stub/dtypes.py:541: FutureWarning: Passing (type, 1) or '1type' as a synonym of type is deprecated; in a future version of numpy, it will be understood as (type, (1,)) / '(1,)type'.\n",
      "  _np_qint8 = np.dtype([(\"qint8\", np.int8, 1)])\n",
      "/opt/conda/lib/python3.7/site-packages/tensorboard/compat/tensorflow_stub/dtypes.py:542: FutureWarning: Passing (type, 1) or '1type' as a synonym of type is deprecated; in a future version of numpy, it will be understood as (type, (1,)) / '(1,)type'.\n",
      "  _np_quint8 = np.dtype([(\"quint8\", np.uint8, 1)])\n",
      "/opt/conda/lib/python3.7/site-packages/tensorboard/compat/tensorflow_stub/dtypes.py:543: FutureWarning: Passing (type, 1) or '1type' as a synonym of type is deprecated; in a future version of numpy, it will be understood as (type, (1,)) / '(1,)type'.\n",
      "  _np_qint16 = np.dtype([(\"qint16\", np.int16, 1)])\n",
      "/opt/conda/lib/python3.7/site-packages/tensorboard/compat/tensorflow_stub/dtypes.py:544: FutureWarning: Passing (type, 1) or '1type' as a synonym of type is deprecated; in a future version of numpy, it will be understood as (type, (1,)) / '(1,)type'.\n",
      "  _np_quint16 = np.dtype([(\"quint16\", np.uint16, 1)])\n",
      "/opt/conda/lib/python3.7/site-packages/tensorboard/compat/tensorflow_stub/dtypes.py:545: FutureWarning: Passing (type, 1) or '1type' as a synonym of type is deprecated; in a future version of numpy, it will be understood as (type, (1,)) / '(1,)type'.\n",
      "  _np_qint32 = np.dtype([(\"qint32\", np.int32, 1)])\n",
      "/opt/conda/lib/python3.7/site-packages/tensorboard/compat/tensorflow_stub/dtypes.py:550: FutureWarning: Passing (type, 1) or '1type' as a synonym of type is deprecated; in a future version of numpy, it will be understood as (type, (1,)) / '(1,)type'.\n",
      "  np_resource = np.dtype([(\"resource\", np.ubyte, 1)])\n"
     ]
    }
   ],
   "source": [
    "import os\n",
    "import shutil\n",
    "import sys\n",
    "import numpy as np\n",
    "from scipy import sparse\n",
    "import pandas as pd\n",
    "import scipy.stats\n",
    "\n",
    "import matplotlib.pyplot as plt\n",
    "%matplotlib inline\n",
    "import seaborn as sn\n",
    "sn.set()\n",
    "\n",
    "import tensorflow as tf\n",
    "from tensorflow.contrib.layers import apply_regularization, l2_regularizer\n",
    "tf.compat.v1.logging.set_verbosity(tf.compat.v1.logging.ERROR)\n",
    "\n",
    "import bottleneck as bn\n",
    "import time\n",
    "from support_func import *\n",
    "from evaluation_func import *\n",
    "from VAE_CF import MultiVAE"
   ]
  },
  {
   "cell_type": "code",
   "execution_count": 3,
   "metadata": {
    "executionInfo": {
     "elapsed": 263,
     "status": "ok",
     "timestamp": 1627832131247,
     "user": {
      "displayName": "Eva G",
      "photoUrl": "",
      "userId": "02505392994695645898"
     },
     "user_tz": -480
    },
    "id": "d7QlwRjXCjc4"
   },
   "outputs": [],
   "source": [
    "DATA_DIR = '../raw_data/ml-1m/'"
   ]
  },
  {
   "cell_type": "code",
   "execution_count": 5,
   "metadata": {
    "colab": {
     "base_uri": "https://localhost:8080/"
    },
    "executionInfo": {
     "elapsed": 1990,
     "status": "ok",
     "timestamp": 1627832135255,
     "user": {
      "displayName": "Eva G",
      "photoUrl": "",
      "userId": "02505392994695645898"
     },
     "user_tz": -480
    },
    "id": "KUG8xrUKCjc4",
    "outputId": "f53c30a0-7b1e-4a39-d13b-bb4a39fbaf23"
   },
   "outputs": [
    {
     "name": "stdout",
     "output_type": "stream",
     "text": [
      "<class 'pandas.core.frame.DataFrame'>\n",
      "RangeIndex: 1000209 entries, 0 to 1000208\n",
      "Data columns (total 4 columns):\n",
      " #   Column     Non-Null Count    Dtype\n",
      "---  ------     --------------    -----\n",
      " 0   userId     1000209 non-null  int64\n",
      " 1   movieId    1000209 non-null  int64\n",
      " 2   rating     1000209 non-null  int64\n",
      " 3   timestamp  1000209 non-null  int64\n",
      "dtypes: int64(4)\n",
      "memory usage: 30.5 MB\n"
     ]
    }
   ],
   "source": [
    "raw_data = pd.read_csv(os.path.join(DATA_DIR, 'ratings.csv'), header=0)\n",
    "raw_data.info()"
   ]
  },
  {
   "cell_type": "markdown",
   "metadata": {
    "id": "7XQ3z4lRCjc8"
   },
   "source": [
    "### Data splitting procedure"
   ]
  },
  {
   "cell_type": "markdown",
   "metadata": {
    "id": "nlc7S5kmCjc9"
   },
   "source": [
    "- Select 10K users as heldout users, 10K users as validation users, and the rest of the users for training\n",
    "- Use all the items from the training users as item set\n",
    "- For each of both validation and test user, subsample 80% as fold-in data and the rest for prediction "
   ]
  },
  {
   "cell_type": "code",
   "execution_count": 6,
   "metadata": {
    "executionInfo": {
     "elapsed": 264,
     "status": "ok",
     "timestamp": 1627832137612,
     "user": {
      "displayName": "Eva G",
      "photoUrl": "",
      "userId": "02505392994695645898"
     },
     "user_tz": -480
    },
    "id": "RNb9C89XCjc-"
   },
   "outputs": [],
   "source": [
    "def get_count(tp, id):\n",
    "    playcount_groupbyid = tp[[id]].groupby(id, as_index=True)# 这里as index改成了true\n",
    "    count = playcount_groupbyid.size()\n",
    "    return count"
   ]
  },
  {
   "cell_type": "code",
   "execution_count": 7,
   "metadata": {
    "executionInfo": {
     "elapsed": 265,
     "status": "ok",
     "timestamp": 1627832139274,
     "user": {
      "displayName": "Eva G",
      "photoUrl": "",
      "userId": "02505392994695645898"
     },
     "user_tz": -480
    },
    "id": "kOvZmDVKCjc_"
   },
   "outputs": [],
   "source": [
    "def filter_triplets(tp, min_uc=5, min_sc=0):\n",
    "    # Only keep the triplets for items which were clicked on by at least min_sc users. \n",
    "    if min_sc > 0:\n",
    "        # find the number of times of occurance of each movie id：\n",
    "        # itemcount contains movie ids and corresponding counts\n",
    "        itemcount = get_count(tp, 'movieId')\n",
    "        # select ratings of movies which occure more than min_sc times\n",
    "        tp = tp[tp['movieId'].isin(itemcount.index[itemcount >= min_sc])]\n",
    "    \n",
    "    # Only keep the triplets for users who clicked on at least min_uc items\n",
    "    # After doing this, some of the items will have less than min_uc users, but should only be a small proportion\n",
    "    if min_uc > 0:\n",
    "        usercount = get_count(tp, 'userId')\n",
    "        # select ratings of users who has rated more than min_uc items\n",
    "        tp = tp[tp['userId'].isin(usercount.index[usercount >= min_uc])]\n",
    "    \n",
    "    # Update both usercount and itemcount after filtering\n",
    "    usercount, itemcount = get_count(tp, 'userId'), get_count(tp, 'movieId') \n",
    "    return tp, usercount, itemcount"
   ]
  },
  {
   "cell_type": "markdown",
   "metadata": {
    "id": "7ftUcbneCjdB"
   },
   "source": [
    "Only keep items that are clicked on by at least 5 users"
   ]
  },
  {
   "cell_type": "code",
   "execution_count": 8,
   "metadata": {
    "executionInfo": {
     "elapsed": 260,
     "status": "ok",
     "timestamp": 1627832141681,
     "user": {
      "displayName": "Eva G",
      "photoUrl": "",
      "userId": "02505392994695645898"
     },
     "user_tz": -480
    },
    "id": "6bPaSb2wCjdC"
   },
   "outputs": [],
   "source": [
    "raw_data, user_activity, item_popularity = filter_triplets(raw_data)"
   ]
  },
  {
   "cell_type": "code",
   "execution_count": 9,
   "metadata": {
    "colab": {
     "base_uri": "https://localhost:8080/"
    },
    "executionInfo": {
     "elapsed": 8,
     "status": "ok",
     "timestamp": 1627832142568,
     "user": {
      "displayName": "Eva G",
      "photoUrl": "",
      "userId": "02505392994695645898"
     },
     "user_tz": -480
    },
    "id": "hVrtFndsCjdD",
    "outputId": "81e18981-738b-41dc-deb8-998b6c689057"
   },
   "outputs": [
    {
     "name": "stdout",
     "output_type": "stream",
     "text": [
      "After filtering, there are 1000209 watching events from 6040 users and 3706 movies (sparsity: 4.468%)\n"
     ]
    }
   ],
   "source": [
    "sparsity = 1. * raw_data.shape[0] / (user_activity.shape[0] * item_popularity.shape[0])\n",
    "print(\"After filtering, there are %d watching events from %d users and %d movies (sparsity: %.3f%%)\" % \n",
    "      (raw_data.shape[0], user_activity.shape[0], item_popularity.shape[0], sparsity * 100))"
   ]
  },
  {
   "cell_type": "code",
   "execution_count": 10,
   "metadata": {
    "executionInfo": {
     "elapsed": 454,
     "status": "ok",
     "timestamp": 1627832144119,
     "user": {
      "displayName": "Eva G",
      "photoUrl": "",
      "userId": "02505392994695645898"
     },
     "user_tz": -480
    },
    "id": "-VeJyESiCjdE"
   },
   "outputs": [],
   "source": [
    "unique_uid = user_activity.index\n",
    "\n",
    "np.random.seed(98765)\n",
    "idx_perm = np.random.permutation(unique_uid.size)\n",
    "unique_uid = unique_uid[idx_perm]"
   ]
  },
  {
   "cell_type": "markdown",
   "metadata": {},
   "source": [
    "Split all users into three set in proportion of {trainining set: 60% users, validation set: 20% users, test set: 20% users}"
   ]
  },
  {
   "cell_type": "code",
   "execution_count": 11,
   "metadata": {
    "executionInfo": {
     "elapsed": 276,
     "status": "ok",
     "timestamp": 1627832145561,
     "user": {
      "displayName": "Eva G",
      "photoUrl": "",
      "userId": "02505392994695645898"
     },
     "user_tz": -480
    },
    "id": "AUX_S4_4CjdF"
   },
   "outputs": [
    {
     "name": "stdout",
     "output_type": "stream",
     "text": [
      "Training set has 3624 users\n",
      "Validation set has 1208 users\n",
      "Test set has 1208 users\n"
     ]
    }
   ],
   "source": [
    "# create train/validation/test users\n",
    "n_users = unique_uid.size\n",
    "n_heldout_users = int(user_activity.shape[0]/5)\n",
    "\n",
    "tr_users = unique_uid[:(n_users - n_heldout_users * 2)]\n",
    "vd_users = unique_uid[(n_users - n_heldout_users * 2): (n_users - n_heldout_users)]\n",
    "te_users = unique_uid[(n_users - n_heldout_users):]\n",
    "print(\"Training set has {0} users\\nValidation set has {1} users\\nTest set has {2} users\".format(len(tr_users),len(vd_users),len(te_users)))"
   ]
  },
  {
   "cell_type": "code",
   "execution_count": 12,
   "metadata": {
    "executionInfo": {
     "elapsed": 4,
     "status": "ok",
     "timestamp": 1627832146477,
     "user": {
      "displayName": "Eva G",
      "photoUrl": "",
      "userId": "02505392994695645898"
     },
     "user_tz": -480
    },
    "id": "sAW8mnnHCjdG"
   },
   "outputs": [],
   "source": [
    "train_plays = raw_data.loc[raw_data['userId'].isin(tr_users)]"
   ]
  },
  {
   "cell_type": "code",
   "execution_count": 13,
   "metadata": {
    "executionInfo": {
     "elapsed": 5,
     "status": "ok",
     "timestamp": 1627832147635,
     "user": {
      "displayName": "Eva G",
      "photoUrl": "",
      "userId": "02505392994695645898"
     },
     "user_tz": -480
    },
    "id": "fxhmpqt0CjdH"
   },
   "outputs": [],
   "source": [
    "unique_sid = pd.unique(train_plays['movieId']) "
   ]
  },
  {
   "cell_type": "code",
   "execution_count": 14,
   "metadata": {
    "executionInfo": {
     "elapsed": 6,
     "status": "ok",
     "timestamp": 1627832148714,
     "user": {
      "displayName": "Eva G",
      "photoUrl": "",
      "userId": "02505392994695645898"
     },
     "user_tz": -480
    },
    "id": "FyDumdqNCjdI"
   },
   "outputs": [],
   "source": [
    "# show2id： {sid: i}\n",
    "# sid is movieId, i is the index of this movieId in unique_sid\n",
    "show2id = dict((sid, i) for (i, sid) in enumerate(unique_sid)) \n",
    "# profile2id： {pid: i}\n",
    "# pid is userId, i is the index of this userId in unique_uid\n",
    "profile2id = dict((pid, i) for (i, pid) in enumerate(unique_uid)) "
   ]
  },
  {
   "cell_type": "code",
   "execution_count": 15,
   "metadata": {
    "executionInfo": {
     "elapsed": 5,
     "status": "ok",
     "timestamp": 1627832149596,
     "user": {
      "displayName": "Eva G",
      "photoUrl": "",
      "userId": "02505392994695645898"
     },
     "user_tz": -480
    },
    "id": "grDknur-CjdJ"
   },
   "outputs": [],
   "source": [
    "# create path to store the processed data\n",
    "pro_dir = os.path.join('holdout_user', 'pro_sg')\n",
    "\n",
    "if not os.path.exists(pro_dir):\n",
    "    os.makedirs(pro_dir)\n",
    "\n",
    "with open(os.path.join(pro_dir, 'unique_sid.txt'), 'w') as f:\n",
    "    for sid in unique_sid:\n",
    "        f.write('%s\\n' % sid)"
   ]
  },
  {
   "cell_type": "code",
   "execution_count": 16,
   "metadata": {
    "executionInfo": {
     "elapsed": 4,
     "status": "ok",
     "timestamp": 1627832150685,
     "user": {
      "displayName": "Eva G",
      "photoUrl": "",
      "userId": "02505392994695645898"
     },
     "user_tz": -480
    },
    "id": "H02DJSFaCjdK"
   },
   "outputs": [],
   "source": [
    "def split_train_test_proportion(data, test_prop=0.2):\n",
    "    data_grouped_by_user = data.groupby('userId')\n",
    "    tr_list, te_list = list(), list()\n",
    "\n",
    "    np.random.seed(98765)\n",
    "\n",
    "    for i, (_, group) in enumerate(data_grouped_by_user):\n",
    "        n_items_u = len(group)\n",
    "\n",
    "        if n_items_u >= 5:\n",
    "            idx = np.zeros(n_items_u, dtype='bool')\n",
    "            idx[np.random.choice(n_items_u, size=int(test_prop * n_items_u), replace=False).astype('int64')] = True\n",
    "\n",
    "            tr_list.append(group[np.logical_not(idx)])\n",
    "            te_list.append(group[idx])\n",
    "        else:\n",
    "            tr_list.append(group)\n",
    "\n",
    "        if i % 1000 == 0:\n",
    "            print(\"%d users sampled\" % i)\n",
    "            sys.stdout.flush()\n",
    "\n",
    "    data_tr = pd.concat(tr_list)\n",
    "    data_te = pd.concat(te_list)\n",
    "    \n",
    "    return data_tr, data_te"
   ]
  },
  {
   "cell_type": "code",
   "execution_count": 17,
   "metadata": {
    "executionInfo": {
     "elapsed": 356,
     "status": "ok",
     "timestamp": 1627832153344,
     "user": {
      "displayName": "Eva G",
      "photoUrl": "",
      "userId": "02505392994695645898"
     },
     "user_tz": -480
    },
    "id": "rQ0KJL3DCjdL"
   },
   "outputs": [],
   "source": [
    "vad_plays = raw_data.loc[raw_data['userId'].isin(vd_users)]\n",
    "vad_plays = vad_plays.loc[vad_plays['movieId'].isin(unique_sid)]"
   ]
  },
  {
   "cell_type": "code",
   "execution_count": 18,
   "metadata": {
    "colab": {
     "base_uri": "https://localhost:8080/"
    },
    "executionInfo": {
     "elapsed": 876,
     "status": "ok",
     "timestamp": 1627832154565,
     "user": {
      "displayName": "Eva G",
      "photoUrl": "",
      "userId": "02505392994695645898"
     },
     "user_tz": -480
    },
    "id": "7IHzzegUCjdM",
    "outputId": "46141ccd-6f72-4466-c3fc-979ce319c5f9"
   },
   "outputs": [
    {
     "name": "stdout",
     "output_type": "stream",
     "text": [
      "0 users sampled\n",
      "1000 users sampled\n"
     ]
    }
   ],
   "source": [
    "vad_plays_tr, vad_plays_te = split_train_test_proportion(vad_plays)"
   ]
  },
  {
   "cell_type": "code",
   "execution_count": 19,
   "metadata": {
    "executionInfo": {
     "elapsed": 449,
     "status": "ok",
     "timestamp": 1627832155379,
     "user": {
      "displayName": "Eva G",
      "photoUrl": "",
      "userId": "02505392994695645898"
     },
     "user_tz": -480
    },
    "id": "mCk6-6RoCjdN"
   },
   "outputs": [],
   "source": [
    "test_plays = raw_data.loc[raw_data['userId'].isin(te_users)]\n",
    "test_plays = test_plays.loc[test_plays['movieId'].isin(unique_sid)]"
   ]
  },
  {
   "cell_type": "code",
   "execution_count": 20,
   "metadata": {
    "colab": {
     "base_uri": "https://localhost:8080/"
    },
    "executionInfo": {
     "elapsed": 858,
     "status": "ok",
     "timestamp": 1627832156601,
     "user": {
      "displayName": "Eva G",
      "photoUrl": "",
      "userId": "02505392994695645898"
     },
     "user_tz": -480
    },
    "id": "9sYI6cdYCjdO",
    "outputId": "5cb6e84c-5d4a-4acd-b0ba-0a3d63735f8e"
   },
   "outputs": [
    {
     "name": "stdout",
     "output_type": "stream",
     "text": [
      "0 users sampled\n",
      "1000 users sampled\n"
     ]
    }
   ],
   "source": [
    "test_plays_tr, test_plays_te = split_train_test_proportion(test_plays)"
   ]
  },
  {
   "cell_type": "code",
   "execution_count": 21,
   "metadata": {},
   "outputs": [
    {
     "name": "stdout",
     "output_type": "stream",
     "text": [
      "Training set contains: 60.34% ratings,\n",
      "Validation set contains: 20.48% ratings,\n",
      "Test set contains: 19.17% ratings\n"
     ]
    }
   ],
   "source": [
    "train_size = train_plays.shape[0]/raw_data.shape[0]*100\n",
    "vad_size = vad_plays.shape[0]/raw_data.shape[0]*100\n",
    "test_size = test_plays.shape[0]/raw_data.shape[0]*100\n",
    "print('Training set contains: {0:.2f}% ratings,\\nValidation set contains: {1:.2f}% ratings,\\nTest set contains: {2:.2f}% ratings'.format(train_size, vad_size, test_size))"
   ]
  },
  {
   "cell_type": "markdown",
   "metadata": {
    "id": "IzFPazu8CjdP"
   },
   "source": [
    "### Save the data into (user_index, item_index) format"
   ]
  },
  {
   "cell_type": "code",
   "execution_count": 23,
   "metadata": {
    "executionInfo": {
     "elapsed": 312,
     "status": "ok",
     "timestamp": 1627832184890,
     "user": {
      "displayName": "Eva G",
      "photoUrl": "",
      "userId": "02505392994695645898"
     },
     "user_tz": -480
    },
    "id": "Q2b53CmICjdQ"
   },
   "outputs": [],
   "source": [
    "def numerize(tp):\n",
    "    uid = list(map(lambda x: profile2id[x], tp['userId']))\n",
    "    sid = list(map(lambda x: show2id[x], tp['movieId']))\n",
    "    return pd.DataFrame(data={'uid': uid, 'sid': sid}, columns=['uid', 'sid'])"
   ]
  },
  {
   "cell_type": "code",
   "execution_count": 24,
   "metadata": {
    "executionInfo": {
     "elapsed": 1738,
     "status": "ok",
     "timestamp": 1627832226545,
     "user": {
      "displayName": "Eva G",
      "photoUrl": "",
      "userId": "02505392994695645898"
     },
     "user_tz": -480
    },
    "id": "ZYLpdGf-CjdR"
   },
   "outputs": [],
   "source": [
    "train_data = numerize(train_plays)\n",
    "train_data.to_csv(os.path.join(pro_dir, 'train.csv'), index=False)"
   ]
  },
  {
   "cell_type": "code",
   "execution_count": 25,
   "metadata": {
    "executionInfo": {
     "elapsed": 5,
     "status": "ok",
     "timestamp": 1627832226548,
     "user": {
      "displayName": "Eva G",
      "photoUrl": "",
      "userId": "02505392994695645898"
     },
     "user_tz": -480
    },
    "id": "i7vzL3x2CjdR"
   },
   "outputs": [],
   "source": [
    "vad_data_tr = numerize(vad_plays_tr)\n",
    "vad_data_tr.to_csv(os.path.join(pro_dir, 'validation_tr.csv'), index=False)"
   ]
  },
  {
   "cell_type": "code",
   "execution_count": 26,
   "metadata": {
    "executionInfo": {
     "elapsed": 4,
     "status": "ok",
     "timestamp": 1627832226956,
     "user": {
      "displayName": "Eva G",
      "photoUrl": "",
      "userId": "02505392994695645898"
     },
     "user_tz": -480
    },
    "id": "soIUq0T7CjdS"
   },
   "outputs": [],
   "source": [
    "vad_data_te = numerize(vad_plays_te)\n",
    "vad_data_te.to_csv(os.path.join(pro_dir, 'validation_te.csv'), index=False)"
   ]
  },
  {
   "cell_type": "code",
   "execution_count": 27,
   "metadata": {
    "executionInfo": {
     "elapsed": 6,
     "status": "ok",
     "timestamp": 1627832227828,
     "user": {
      "displayName": "Eva G",
      "photoUrl": "",
      "userId": "02505392994695645898"
     },
     "user_tz": -480
    },
    "id": "Th7EpIGlCjdS"
   },
   "outputs": [],
   "source": [
    "test_data_tr = numerize(test_plays_tr)\n",
    "test_data_tr.to_csv(os.path.join(pro_dir, 'test_tr.csv'), index=False)"
   ]
  },
  {
   "cell_type": "code",
   "execution_count": 28,
   "metadata": {
    "executionInfo": {
     "elapsed": 4,
     "status": "ok",
     "timestamp": 1627832228260,
     "user": {
      "displayName": "Eva G",
      "photoUrl": "",
      "userId": "02505392994695645898"
     },
     "user_tz": -480
    },
    "id": "11YW0zdLCjdT"
   },
   "outputs": [],
   "source": [
    "test_data_te = numerize(test_plays_te)\n",
    "test_data_te.to_csv(os.path.join(pro_dir, 'test_te.csv'), index=False)"
   ]
  },
  {
   "cell_type": "markdown",
   "metadata": {},
   "source": [
    "### Load saved data and convert the [0,5] ranged rating data to binary rating data"
   ]
  },
  {
   "cell_type": "code",
   "execution_count": 29,
   "metadata": {
    "executionInfo": {
     "elapsed": 277,
     "status": "ok",
     "timestamp": 1627832242971,
     "user": {
      "displayName": "Eva G",
      "photoUrl": "",
      "userId": "02505392994695645898"
     },
     "user_tz": -480
    },
    "id": "7Gr7vByMCjdc"
   },
   "outputs": [],
   "source": [
    "# total number of items in training set\n",
    "n_items = len(unique_sid)"
   ]
  },
  {
   "cell_type": "code",
   "execution_count": 30,
   "metadata": {
    "executionInfo": {
     "elapsed": 273,
     "status": "ok",
     "timestamp": 1627832245059,
     "user": {
      "displayName": "Eva G",
      "photoUrl": "",
      "userId": "02505392994695645898"
     },
     "user_tz": -480
    },
    "id": "ZknCzAKoCjdc"
   },
   "outputs": [],
   "source": [
    "def load_train_data(csv_file):\n",
    "    tp = pd.read_csv(csv_file)\n",
    "    n_users = tp['uid'].max() + 1\n",
    "\n",
    "    rows, cols = tp['uid'], tp['sid']\n",
    "    data = sparse.csr_matrix((np.ones_like(rows),\n",
    "                             (rows, cols)), dtype='float64',\n",
    "                             shape=(n_users, n_items))\n",
    "    return data"
   ]
  },
  {
   "cell_type": "code",
   "execution_count": 31,
   "metadata": {
    "executionInfo": {
     "elapsed": 442,
     "status": "ok",
     "timestamp": 1627832247249,
     "user": {
      "displayName": "Eva G",
      "photoUrl": "",
      "userId": "02505392994695645898"
     },
     "user_tz": -480
    },
    "id": "ghSE4HliCjdd"
   },
   "outputs": [],
   "source": [
    "train_data = load_train_data(os.path.join(pro_dir, 'train.csv'))"
   ]
  },
  {
   "cell_type": "code",
   "execution_count": 32,
   "metadata": {
    "executionInfo": {
     "elapsed": 314,
     "status": "ok",
     "timestamp": 1627832249085,
     "user": {
      "displayName": "Eva G",
      "photoUrl": "",
      "userId": "02505392994695645898"
     },
     "user_tz": -480
    },
    "id": "gyQ6X_Z0Cjdd"
   },
   "outputs": [],
   "source": [
    "def load_tr_te_data(csv_file_tr, csv_file_te):\n",
    "    tp_tr = pd.read_csv(csv_file_tr)\n",
    "    tp_te = pd.read_csv(csv_file_te)\n",
    "\n",
    "    start_idx = min(tp_tr['uid'].min(), tp_te['uid'].min())\n",
    "    end_idx = max(tp_tr['uid'].max(), tp_te['uid'].max())\n",
    "\n",
    "    rows_tr, cols_tr = tp_tr['uid'] - start_idx, tp_tr['sid']\n",
    "    rows_te, cols_te = tp_te['uid'] - start_idx, tp_te['sid']\n",
    "\n",
    "    data_tr = sparse.csr_matrix((np.ones_like(rows_tr),\n",
    "                             (rows_tr, cols_tr)), dtype='float64', shape=(end_idx - start_idx + 1, n_items))\n",
    "    data_te = sparse.csr_matrix((np.ones_like(rows_te),\n",
    "                             (rows_te, cols_te)), dtype='float64', shape=(end_idx - start_idx + 1, n_items))\n",
    "    return data_tr, data_te"
   ]
  },
  {
   "cell_type": "code",
   "execution_count": 33,
   "metadata": {
    "executionInfo": {
     "elapsed": 313,
     "status": "ok",
     "timestamp": 1627832250770,
     "user": {
      "displayName": "Eva G",
      "photoUrl": "",
      "userId": "02505392994695645898"
     },
     "user_tz": -480
    },
    "id": "NDpAK06JCjde"
   },
   "outputs": [],
   "source": [
    "vad_data_tr, vad_data_te = load_tr_te_data(os.path.join(pro_dir, 'validation_tr.csv'),\n",
    "                                           os.path.join(pro_dir, 'validation_te.csv'))"
   ]
  },
  {
   "cell_type": "markdown",
   "metadata": {},
   "source": [
    "Build the network structure"
   ]
  },
  {
   "cell_type": "code",
   "execution_count": 34,
   "metadata": {
    "executionInfo": {
     "elapsed": 274,
     "status": "ok",
     "timestamp": 1627833862601,
     "user": {
      "displayName": "Eva G",
      "photoUrl": "",
      "userId": "02505392994695645898"
     },
     "user_tz": -480
    },
    "id": "HvwR7sf4Cjdh"
   },
   "outputs": [],
   "source": [
    "p_dims = [200, 600, n_items]\n",
    "tf.reset_default_graph()\n",
    "vae = MultiVAE(p_dims, lam=0.0, random_seed=98765)\n",
    "saver, logits_var, loss_var, train_op_var, merged_var = vae.build_graph()"
   ]
  },
  {
   "cell_type": "markdown",
   "metadata": {
    "id": "-3PV0UE3Cjde"
   },
   "source": [
    "Set up training hyperparameters"
   ]
  },
  {
   "cell_type": "code",
   "execution_count": 35,
   "metadata": {
    "executionInfo": {
     "elapsed": 297,
     "status": "ok",
     "timestamp": 1627832252755,
     "user": {
      "displayName": "Eva G",
      "photoUrl": "",
      "userId": "02505392994695645898"
     },
     "user_tz": -480
    },
    "id": "wkiY82lmCjdf"
   },
   "outputs": [],
   "source": [
    "N = train_data.shape[0]\n",
    "idxlist = list(range(N))\n",
    "\n",
    "# training batch size\n",
    "batch_size = 500\n",
    "batches_per_epoch = int(np.ceil(float(N) / batch_size))\n",
    "\n",
    "N_vad = vad_data_tr.shape[0]\n",
    "idxlist_vad = list(range(N_vad))\n",
    "\n",
    "# validation batch size (since the entire validation set might not fit into GPU memory)\n",
    "batch_size_vad = 2000\n",
    "\n",
    "# the total number of gradient updates for annealing\n",
    "total_anneal_steps = 200000\n",
    "# largest annealing parameter\n",
    "anneal_cap = 0.2"
   ]
  },
  {
   "cell_type": "code",
   "execution_count": 36,
   "metadata": {
    "executionInfo": {
     "elapsed": 714,
     "status": "ok",
     "timestamp": 1627833639264,
     "user": {
      "displayName": "Eva G",
      "photoUrl": "",
      "userId": "02505392994695645898"
     },
     "user_tz": -480
    },
    "id": "SJegr9ghCjdi"
   },
   "outputs": [],
   "source": [
    "tf.reset_default_graph()\n",
    "vae = MultiVAE(p_dims, lam=0.0, random_seed=98765)\n",
    "\n",
    "saver, logits_var, loss_var, train_op_var, merged_var = vae.build_graph()\n",
    "\n",
    "ndcg_var = tf.Variable(0.0)\n",
    "ndcg_dist_var = tf.placeholder(dtype=tf.float64, shape=None)\n",
    "ndcg_summary = tf.summary.scalar('ndcg_at_k_validation', ndcg_var)\n",
    "ndcg_dist_summary = tf.summary.histogram('ndcg_at_k_hist_validation', ndcg_dist_var)\n",
    "merged_valid = tf.summary.merge([ndcg_summary, ndcg_dist_summary])"
   ]
  },
  {
   "cell_type": "markdown",
   "metadata": {},
   "source": [
    "Create checkpoint and log directory"
   ]
  },
  {
   "cell_type": "code",
   "execution_count": 37,
   "metadata": {},
   "outputs": [
    {
     "name": "stdout",
     "output_type": "stream",
     "text": [
      "log directory: log/ml-1m-holdout-users/VAE_anneal200.0K_cap2.0E-01/I-600-200-600-I_v2\n",
      "chkpt directory: chkpt/ml-1m-holdout-users/VAE_anneal200.0K_cap2.0E-01/I-600-200-600-I_v2\n"
     ]
    }
   ],
   "source": [
    "arch_str = \"I-%s-I\" % ('-'.join([str(d) for d in vae.dims[1:-1]]))\n",
    "model_name = 'ml-1m-holdout-users'\n",
    "\n",
    "model_save_path = ''\n",
    "log_dir = os.path.join(model_save_path,'log/{}/VAE_anneal{}K_cap{:1.1E}/{}_v2'.format(model_name,\n",
    "    total_anneal_steps/1000, anneal_cap, arch_str))\n",
    "\n",
    "if not os.path.isdir(log_dir):\n",
    "    os.makedirs(log_dir) \n",
    "if os.path.exists(log_dir):\n",
    "    shutil.rmtree(log_dir)\n",
    "\n",
    "print(\"log directory: %s\" % log_dir)\n",
    "summary_writer = tf.summary.FileWriter(log_dir, graph=tf.get_default_graph())\n",
    "\n",
    "\n",
    "chkpt_dir = os.path.join(model_save_path,'chkpt/{}/VAE_anneal{}K_cap{:1.1E}/{}_v2'.format(model_name,\n",
    "    total_anneal_steps/1000, anneal_cap, arch_str))\n",
    "\n",
    "if not os.path.isdir(chkpt_dir):\n",
    "    os.makedirs(chkpt_dir) \n",
    "    \n",
    "print(\"chkpt directory: %s\" % chkpt_dir)"
   ]
  },
  {
   "cell_type": "markdown",
   "metadata": {},
   "source": [
    "### Train the model"
   ]
  },
  {
   "cell_type": "code",
   "execution_count": 72,
   "metadata": {
    "colab": {
     "base_uri": "https://localhost:8080/"
    },
    "executionInfo": {
     "elapsed": 98227,
     "status": "ok",
     "timestamp": 1627833766172,
     "user": {
      "displayName": "Eva G",
      "photoUrl": "",
      "userId": "02505392994695645898"
     },
     "user_tz": -480
    },
    "id": "Xo1zFatICjdk",
    "outputId": "2fe4e75b-1530-4c86-8a71-5791fc1ead4b",
    "scrolled": true
   },
   "outputs": [
    {
     "name": "stdout",
     "output_type": "stream",
     "text": [
      "Start training...\n",
      "Epoch :1, Time:1.19 seconds, Loss: 1350.4857\n",
      "Epoch :2, Time:0.83 seconds, Loss: 1276.6345\n",
      "Epoch :3, Time:1.11 seconds, Loss: 1254.5820\n",
      "Epoch :4, Time:1.25 seconds, Loss: 1237.0299\n",
      "Epoch :5, Time:1.01 seconds, Loss: 1228.5101\n",
      "Epoch :6, Time:1.10 seconds, Loss: 1245.2131\n",
      "Epoch :7, Time:1.14 seconds, Loss: 1258.9976\n",
      "Epoch :8, Time:1.35 seconds, Loss: 1243.2822\n",
      "Epoch :9, Time:1.27 seconds, Loss: 1209.4613\n",
      "Epoch :10, Time:1.14 seconds, Loss: 1186.4232\n",
      "Epoch :11, Time:1.02 seconds, Loss: 1182.7087\n",
      "Epoch :12, Time:0.67 seconds, Loss: 1196.2888\n",
      "Epoch :13, Time:0.70 seconds, Loss: 1177.4028\n",
      "Epoch :14, Time:0.65 seconds, Loss: 1178.4432\n",
      "Epoch :15, Time:0.61 seconds, Loss: 1190.0946\n",
      "Epoch :16, Time:0.64 seconds, Loss: 1182.7065\n",
      "Epoch :17, Time:0.58 seconds, Loss: 1180.4983\n",
      "Epoch :18, Time:0.54 seconds, Loss: 1181.6156\n",
      "Epoch :19, Time:0.62 seconds, Loss: 1181.1697\n",
      "Epoch :20, Time:0.62 seconds, Loss: 1177.2904\n",
      "Epoch :21, Time:0.61 seconds, Loss: 1177.2334\n",
      "Epoch :22, Time:0.65 seconds, Loss: 1158.2750\n",
      "Epoch :23, Time:1.04 seconds, Loss: 1178.6423\n",
      "Epoch :24, Time:1.01 seconds, Loss: 1171.8823\n",
      "Epoch :25, Time:0.56 seconds, Loss: 1163.5638\n",
      "Epoch :26, Time:0.65 seconds, Loss: 1150.7795\n",
      "Epoch :27, Time:0.57 seconds, Loss: 1136.8446\n",
      "Epoch :28, Time:0.60 seconds, Loss: 1147.1760\n",
      "Epoch :29, Time:0.68 seconds, Loss: 1161.8849\n",
      "Epoch :30, Time:0.57 seconds, Loss: 1172.2412\n",
      "Epoch :31, Time:0.55 seconds, Loss: 1149.8346\n",
      "Epoch :32, Time:0.54 seconds, Loss: 1145.3923\n",
      "Epoch :33, Time:0.55 seconds, Loss: 1147.3948\n",
      "Epoch :34, Time:0.54 seconds, Loss: 1128.3945\n",
      "Epoch :35, Time:0.55 seconds, Loss: 1149.2078\n",
      "Epoch :36, Time:0.55 seconds, Loss: 1155.3313\n",
      "Epoch :37, Time:0.58 seconds, Loss: 1149.8588\n",
      "Epoch :38, Time:0.57 seconds, Loss: 1124.3621\n",
      "Epoch :39, Time:0.56 seconds, Loss: 1140.2653\n",
      "Epoch :40, Time:0.58 seconds, Loss: 1148.0033\n",
      "Epoch :41, Time:0.66 seconds, Loss: 1115.4866\n",
      "Epoch :42, Time:0.53 seconds, Loss: 1167.6678\n",
      "Epoch :43, Time:0.57 seconds, Loss: 1149.1628\n",
      "Epoch :44, Time:0.70 seconds, Loss: 1143.6018\n",
      "Epoch :45, Time:0.55 seconds, Loss: 1141.3433\n",
      "Epoch :46, Time:0.60 seconds, Loss: 1134.8706\n",
      "Epoch :47, Time:0.61 seconds, Loss: 1125.6001\n",
      "Epoch :48, Time:0.57 seconds, Loss: 1142.5579\n",
      "Epoch :49, Time:0.55 seconds, Loss: 1134.6083\n",
      "Epoch :50, Time:0.57 seconds, Loss: 1138.0225\n",
      "Epoch :51, Time:0.56 seconds, Loss: 1158.6874\n",
      "Epoch :52, Time:0.57 seconds, Loss: 1121.4207\n",
      "Epoch :53, Time:0.59 seconds, Loss: 1128.2928\n",
      "Epoch :54, Time:0.54 seconds, Loss: 1131.4341\n",
      "Epoch :55, Time:0.58 seconds, Loss: 1159.5813\n",
      "Epoch :56, Time:0.55 seconds, Loss: 1119.6597\n",
      "Epoch :57, Time:0.59 seconds, Loss: 1119.3257\n",
      "Epoch :58, Time:0.56 seconds, Loss: 1137.8375\n",
      "Epoch :59, Time:0.67 seconds, Loss: 1139.6582\n",
      "Epoch :60, Time:0.62 seconds, Loss: 1119.9790\n",
      "Epoch :61, Time:0.60 seconds, Loss: 1113.3618\n",
      "Epoch :62, Time:0.79 seconds, Loss: 1135.1924\n",
      "Epoch :63, Time:0.60 seconds, Loss: 1107.3033\n",
      "Epoch :64, Time:0.55 seconds, Loss: 1108.0881\n",
      "Epoch :65, Time:0.54 seconds, Loss: 1109.0054\n",
      "Epoch :66, Time:0.57 seconds, Loss: 1132.7894\n",
      "Epoch :67, Time:0.60 seconds, Loss: 1126.0981\n",
      "Epoch :68, Time:0.54 seconds, Loss: 1123.7065\n",
      "Epoch :69, Time:0.55 seconds, Loss: 1120.5123\n",
      "Epoch :70, Time:0.60 seconds, Loss: 1128.1223\n",
      "Epoch :71, Time:0.58 seconds, Loss: 1123.7761\n",
      "Epoch :72, Time:0.56 seconds, Loss: 1113.9590\n",
      "Epoch :73, Time:0.59 seconds, Loss: 1125.3865\n",
      "Epoch :74, Time:0.60 seconds, Loss: 1124.7643\n",
      "Epoch :75, Time:0.53 seconds, Loss: 1122.3112\n",
      "Epoch :76, Time:0.57 seconds, Loss: 1135.0752\n",
      "Epoch :77, Time:0.58 seconds, Loss: 1118.3639\n",
      "Epoch :78, Time:0.64 seconds, Loss: 1109.0753\n",
      "Epoch :79, Time:0.59 seconds, Loss: 1101.1392\n",
      "Epoch :80, Time:0.59 seconds, Loss: 1115.1338\n",
      "Epoch :81, Time:0.68 seconds, Loss: 1122.5554\n",
      "Epoch :82, Time:0.65 seconds, Loss: 1108.0232\n",
      "Epoch :83, Time:0.70 seconds, Loss: 1129.3168\n",
      "Epoch :84, Time:0.60 seconds, Loss: 1106.9385\n",
      "Epoch :85, Time:0.60 seconds, Loss: 1115.6774\n",
      "Epoch :86, Time:0.59 seconds, Loss: 1102.5508\n",
      "Epoch :87, Time:0.59 seconds, Loss: 1102.0032\n",
      "Epoch :88, Time:0.61 seconds, Loss: 1111.6730\n",
      "Epoch :89, Time:0.59 seconds, Loss: 1104.3717\n",
      "Epoch :90, Time:0.63 seconds, Loss: 1111.4417\n",
      "Epoch :91, Time:0.66 seconds, Loss: 1101.5618\n",
      "Epoch :92, Time:0.59 seconds, Loss: 1136.0359\n",
      "Epoch :93, Time:0.62 seconds, Loss: 1099.2781\n",
      "Epoch :94, Time:0.59 seconds, Loss: 1115.7976\n",
      "Epoch :95, Time:0.54 seconds, Loss: 1104.3684\n",
      "Epoch :96, Time:0.60 seconds, Loss: 1114.3367\n",
      "Epoch :97, Time:0.58 seconds, Loss: 1106.5474\n",
      "Epoch :98, Time:0.55 seconds, Loss: 1100.6923\n",
      "Epoch :99, Time:0.54 seconds, Loss: 1101.3369\n",
      "Epoch :100, Time:0.60 seconds, Loss: 1113.3652\n",
      "Epoch :101, Time:0.59 seconds, Loss: 1095.4583\n",
      "Epoch :102, Time:0.56 seconds, Loss: 1103.4780\n",
      "Epoch :103, Time:0.59 seconds, Loss: 1093.0369\n",
      "Epoch :104, Time:0.53 seconds, Loss: 1094.2366\n",
      "Epoch :105, Time:0.60 seconds, Loss: 1114.7036\n",
      "Epoch :106, Time:0.61 seconds, Loss: 1086.1130\n",
      "Epoch :107, Time:0.78 seconds, Loss: 1089.2700\n",
      "Epoch :108, Time:0.69 seconds, Loss: 1115.5349\n",
      "Epoch :109, Time:0.53 seconds, Loss: 1099.6075\n",
      "Epoch :110, Time:0.57 seconds, Loss: 1089.6990\n",
      "Epoch :111, Time:0.60 seconds, Loss: 1133.3721\n",
      "Epoch :112, Time:0.61 seconds, Loss: 1115.2013\n",
      "Epoch :113, Time:0.59 seconds, Loss: 1101.3579\n",
      "Epoch :114, Time:0.55 seconds, Loss: 1092.3274\n",
      "Epoch :115, Time:0.59 seconds, Loss: 1101.1158\n",
      "Epoch :116, Time:0.59 seconds, Loss: 1111.9673\n",
      "Epoch :117, Time:0.54 seconds, Loss: 1113.5239\n",
      "Epoch :118, Time:0.58 seconds, Loss: 1081.3160\n",
      "Epoch :119, Time:0.55 seconds, Loss: 1080.2585\n",
      "Epoch :120, Time:0.56 seconds, Loss: 1110.3110\n",
      "Epoch :121, Time:0.50 seconds, Loss: 1111.3127\n",
      "Epoch :122, Time:0.55 seconds, Loss: 1090.4606\n",
      "Epoch :123, Time:0.61 seconds, Loss: 1093.1128\n",
      "Epoch :124, Time:0.58 seconds, Loss: 1103.8711\n",
      "Epoch :125, Time:0.54 seconds, Loss: 1095.7241\n",
      "Epoch :126, Time:0.57 seconds, Loss: 1093.9834\n",
      "Epoch :127, Time:0.61 seconds, Loss: 1090.2705\n",
      "Epoch :128, Time:0.58 seconds, Loss: 1103.5144\n",
      "Epoch :129, Time:0.64 seconds, Loss: 1112.0050\n",
      "Epoch :130, Time:0.59 seconds, Loss: 1113.9656\n",
      "Epoch :131, Time:0.58 seconds, Loss: 1080.9852\n",
      "Epoch :132, Time:0.55 seconds, Loss: 1093.7958\n",
      "Epoch :133, Time:0.57 seconds, Loss: 1105.1466\n",
      "Epoch :134, Time:0.56 seconds, Loss: 1098.1096\n",
      "Epoch :135, Time:0.61 seconds, Loss: 1103.1885\n",
      "Epoch :136, Time:0.56 seconds, Loss: 1100.7993\n",
      "Epoch :137, Time:0.55 seconds, Loss: 1119.8130\n",
      "Epoch :138, Time:0.56 seconds, Loss: 1110.4160\n",
      "Epoch :139, Time:0.55 seconds, Loss: 1052.4646\n",
      "Epoch :140, Time:0.60 seconds, Loss: 1092.2983\n",
      "Epoch :141, Time:0.57 seconds, Loss: 1078.6183\n",
      "Epoch :142, Time:0.65 seconds, Loss: 1094.6376\n",
      "Epoch :143, Time:0.58 seconds, Loss: 1108.9323\n",
      "Epoch :144, Time:0.61 seconds, Loss: 1105.5336\n",
      "Epoch :145, Time:0.65 seconds, Loss: 1094.3843\n",
      "Epoch :146, Time:0.59 seconds, Loss: 1090.5972\n",
      "Epoch :147, Time:0.60 seconds, Loss: 1091.4658\n",
      "Epoch :148, Time:0.61 seconds, Loss: 1104.5336\n",
      "Epoch :149, Time:0.58 seconds, Loss: 1100.0491\n",
      "Epoch :150, Time:0.61 seconds, Loss: 1109.2167\n",
      "Epoch :151, Time:0.61 seconds, Loss: 1081.6257\n",
      "Epoch :152, Time:0.55 seconds, Loss: 1086.8167\n",
      "Epoch :153, Time:0.56 seconds, Loss: 1077.4148\n",
      "Epoch :154, Time:0.54 seconds, Loss: 1102.9618\n",
      "Epoch :155, Time:0.70 seconds, Loss: 1100.0226\n",
      "Epoch :156, Time:0.58 seconds, Loss: 1088.5723\n",
      "Epoch :157, Time:0.55 seconds, Loss: 1095.1895\n",
      "Epoch :158, Time:0.59 seconds, Loss: 1071.2183\n",
      "Epoch :159, Time:0.54 seconds, Loss: 1098.9810\n",
      "Epoch :160, Time:0.59 seconds, Loss: 1078.7618\n",
      "Epoch :161, Time:0.69 seconds, Loss: 1076.0876\n",
      "Epoch :162, Time:0.61 seconds, Loss: 1078.5123\n",
      "Epoch :163, Time:0.59 seconds, Loss: 1087.9546\n",
      "Epoch :164, Time:0.56 seconds, Loss: 1079.5767\n",
      "Epoch :165, Time:0.60 seconds, Loss: 1084.7046\n",
      "Epoch :166, Time:0.54 seconds, Loss: 1086.4333\n",
      "Epoch :167, Time:0.62 seconds, Loss: 1110.9041\n",
      "Epoch :168, Time:0.54 seconds, Loss: 1085.5159\n",
      "Epoch :169, Time:0.59 seconds, Loss: 1074.7614\n",
      "Epoch :170, Time:0.59 seconds, Loss: 1083.7161\n",
      "Epoch :171, Time:0.56 seconds, Loss: 1066.4717\n",
      "Epoch :172, Time:0.59 seconds, Loss: 1089.8142\n",
      "Epoch :173, Time:0.54 seconds, Loss: 1088.5767\n",
      "Epoch :174, Time:0.58 seconds, Loss: 1068.4108\n",
      "Epoch :175, Time:0.54 seconds, Loss: 1079.1372\n",
      "Epoch :176, Time:0.70 seconds, Loss: 1077.7872\n",
      "Epoch :177, Time:0.59 seconds, Loss: 1083.8696\n",
      "Epoch :178, Time:0.57 seconds, Loss: 1073.9308\n",
      "Epoch :179, Time:0.57 seconds, Loss: 1097.7716\n",
      "Epoch :180, Time:0.71 seconds, Loss: 1082.3350\n",
      "Epoch :181, Time:0.58 seconds, Loss: 1074.5817\n",
      "Epoch :182, Time:0.56 seconds, Loss: 1092.2910\n",
      "Epoch :183, Time:0.57 seconds, Loss: 1065.4352\n",
      "Epoch :184, Time:0.66 seconds, Loss: 1102.8533\n",
      "Epoch :185, Time:0.55 seconds, Loss: 1073.1649\n",
      "Epoch :186, Time:0.60 seconds, Loss: 1076.0908\n",
      "Epoch :187, Time:0.62 seconds, Loss: 1066.7745\n",
      "Epoch :188, Time:0.59 seconds, Loss: 1095.3728\n",
      "Epoch :189, Time:0.62 seconds, Loss: 1075.6929\n",
      "Epoch :190, Time:0.60 seconds, Loss: 1058.5562\n",
      "Epoch :191, Time:0.59 seconds, Loss: 1067.7358\n",
      "Epoch :192, Time:0.60 seconds, Loss: 1082.2242\n",
      "Epoch :193, Time:0.59 seconds, Loss: 1078.6353\n",
      "Epoch :194, Time:0.63 seconds, Loss: 1098.4568\n",
      "Epoch :195, Time:0.65 seconds, Loss: 1080.2916\n",
      "Epoch :196, Time:0.59 seconds, Loss: 1089.7886\n",
      "Epoch :197, Time:0.53 seconds, Loss: 1077.4607\n",
      "Epoch :198, Time:0.58 seconds, Loss: 1064.0186\n",
      "Epoch :199, Time:0.60 seconds, Loss: 1084.8203\n",
      "Epoch :200, Time:0.60 seconds, Loss: 1061.9751\n",
      "Finish training.\n"
     ]
    }
   ],
   "source": [
    "n_epochs = 200\n",
    "ndcgs_vad = []\n",
    "loss_log = []\n",
    "\n",
    "with tf.Session() as sess:\n",
    "    print('Start training...')\n",
    "\n",
    "    init = tf.global_variables_initializer()\n",
    "    sess.run(init)\n",
    "\n",
    "    best_ndcg = -np.inf\n",
    "\n",
    "    update_count = 0.0\n",
    "    \n",
    "    for epoch in range(n_epochs):\n",
    "        t_start = time.time()\n",
    "        np.random.shuffle(idxlist)\n",
    "        loss_batch = []\n",
    "        # train for one epoch\n",
    "        for bnum, st_idx in enumerate(list(range(0, N, batch_size))):\n",
    "            end_idx = min(st_idx + batch_size, N)  \n",
    "            X = train_data[idxlist[st_idx:end_idx]]\n",
    "            \n",
    "            if sparse.isspmatrix(X):\n",
    "                X = X.toarray()\n",
    "            X = X.astype('float32')           \n",
    "            \n",
    "            if total_anneal_steps > 0:\n",
    "                anneal = min(anneal_cap, 1. * update_count / total_anneal_steps) # 动态规划anneal， 这个是KL的beta？\n",
    "            else:\n",
    "                anneal = anneal_cap # 如果没有设定最大anneal步数，就直接统一anneal为最大值 anneal_cap\n",
    "            \n",
    "            feed_dict = {vae.input_ph: X, \n",
    "                         vae.keep_prob_ph: 0.5, \n",
    "                         vae.anneal_ph: anneal,\n",
    "                         vae.is_training_ph: 1}        \n",
    "            _, loss = sess.run([train_op_var, loss_var], feed_dict=feed_dict)\n",
    "\n",
    "            if bnum % 100 == 0:\n",
    "                summary_train = sess.run(merged_var, feed_dict=feed_dict)\n",
    "                summary_writer.add_summary(summary_train, \n",
    "                                           global_step=epoch * batches_per_epoch + bnum) \n",
    "            \n",
    "            update_count += 1 #每个iteration加一\n",
    "            loss_batch.append(loss)\n",
    "        loss_log.append(np.mean(loss_batch))\n",
    "        t_end = time.time()\n",
    "        print('Epoch :{0:.0f}, Time:{1:.2f} seconds, Loss: {2:.4f}'.format(epoch+1,t_end-t_start, np.mean(loss_batch))) #\n",
    "        \n",
    "        # compute validation NDCG\n",
    "        ndcg_dist = []\n",
    "        for bnum, st_idx in enumerate(list(range(0, N_vad, batch_size_vad))):\n",
    "            end_idx = min(st_idx + batch_size_vad, N_vad)\n",
    "            X = vad_data_tr[idxlist_vad[st_idx:end_idx]]\n",
    "\n",
    "            if sparse.isspmatrix(X):\n",
    "                X = X.toarray()\n",
    "            X = X.astype('float32')\n",
    "        \n",
    "            pred_val = sess.run(logits_var, feed_dict={vae.input_ph: X} )\n",
    "            # exclude examples from training and validation (if any)\n",
    "            pred_val[X.nonzero()] = -np.inf\n",
    "            ndcg_dist.append(NDCG_binary_at_k_batch(pred_val, vad_data_te[idxlist_vad[st_idx:end_idx]]))\n",
    "        \n",
    "        ndcg_dist = np.concatenate(ndcg_dist)\n",
    "        ndcg_ = ndcg_dist.mean()\n",
    "        ndcgs_vad.append(ndcg_)\n",
    "        \n",
    "        # update the best model (if necessary)\n",
    "        if ndcg_ > best_ndcg:\n",
    "            saver.save(sess, '{}/model'.format(chkpt_dir))\n",
    "            best_ndcg = ndcg_\n",
    "print('Finish training.')"
   ]
  },
  {
   "cell_type": "code",
   "execution_count": 73,
   "metadata": {},
   "outputs": [
    {
     "data": {
      "image/png": "[encoded data removed]",
      "text/plain": [
       "<Figure size 576x288 with 2 Axes>"
      ]
     },
     "metadata": {},
     "output_type": "display_data"
    }
   ],
   "source": [
    "sn.set(style='white')\n",
    "fig, ax = plt.subplots(figsize=(8,4))\n",
    "twin1 = ax.twinx()\n",
    "ndcg_line, = ax.plot(ndcgs_vad, \"b-\", label='NDCG@100')\n",
    "loss_line, = twin1.plot(loss_log, \"r-\", label='Traing Loss')\n",
    "ax.set_ylabel(\"NDCG@100\")\n",
    "twin1.set_ylabel(\"Traing Loss\")\n",
    "ax.set_xlabel(\"Epochs\")\n",
    "ax.legend(handles=[ndcg_line, loss_line], loc=7)\n",
    "plt.savefig('../plots/VAE-training(holdout users).pdf', bbox_inches = 'tight')\n",
    "plt.show()"
   ]
  },
  {
   "cell_type": "markdown",
   "metadata": {
    "id": "XwFQDJkDCjdm"
   },
   "source": [
    "### Test and Generate recommendation list"
   ]
  },
  {
   "cell_type": "code",
   "execution_count": 35,
   "metadata": {
    "executionInfo": {
     "elapsed": 269,
     "status": "ok",
     "timestamp": 1627832824906,
     "user": {
      "displayName": "Eva G",
      "photoUrl": "",
      "userId": "02505392994695645898"
     },
     "user_tz": -480
    },
    "id": "MOzjNG_4Cjdn"
   },
   "outputs": [],
   "source": [
    "test_data_tr, test_data_te = load_tr_te_data(\n",
    "    os.path.join(pro_dir, 'test_tr.csv'),\n",
    "    os.path.join(pro_dir, 'test_te.csv'))"
   ]
  },
  {
   "cell_type": "code",
   "execution_count": 36,
   "metadata": {
    "executionInfo": {
     "elapsed": 266,
     "status": "ok",
     "timestamp": 1627832826730,
     "user": {
      "displayName": "Eva G",
      "photoUrl": "",
      "userId": "02505392994695645898"
     },
     "user_tz": -480
    },
    "id": "wH4dxcLzCjdn"
   },
   "outputs": [],
   "source": [
    "N_test = test_data_tr.shape[0]\n",
    "idxlist_test = range(N_test)\n",
    "\n",
    "batch_size_test = 2000"
   ]
  },
  {
   "cell_type": "code",
   "execution_count": 37,
   "metadata": {
    "executionInfo": {
     "elapsed": 456,
     "status": "ok",
     "timestamp": 1627832828423,
     "user": {
      "displayName": "Eva G",
      "photoUrl": "",
      "userId": "02505392994695645898"
     },
     "user_tz": -480
    },
    "id": "52MSoKj_Cjdo"
   },
   "outputs": [],
   "source": [
    "tf.reset_default_graph()\n",
    "vae = MultiVAE(p_dims, lam=0.0)\n",
    "saver, logits_var, _, _, _ = vae.build_graph()    "
   ]
  },
  {
   "cell_type": "code",
   "execution_count": 38,
   "metadata": {
    "colab": {
     "base_uri": "https://localhost:8080/"
    },
    "executionInfo": {
     "elapsed": 8,
     "status": "ok",
     "timestamp": 1627832829304,
     "user": {
      "displayName": "Eva G",
      "photoUrl": "",
      "userId": "02505392994695645898"
     },
     "user_tz": -480
    },
    "id": "Uu5Zgx-2Cjdo",
    "outputId": "3d2a1fb1-2dad-4b6d-841d-959570c93114"
   },
   "outputs": [
    {
     "name": "stdout",
     "output_type": "stream",
     "text": [
      "chkpt directory: chkpt/ml-1m-holdout-users/VAE_anneal200.0K_cap2.0E-01/I-600-200-600-I_v2\n"
     ]
    }
   ],
   "source": [
    "model_name = 'ml-1m-holdout-users'\n",
    "chkpt_dir = os.path.join(model_save_path,'chkpt/{}/VAE_anneal{}K_cap{:1.1E}/{}_v2'.format(model_name,\n",
    "    total_anneal_steps/1000, anneal_cap, arch_str))\n",
    "print(\"chkpt directory: %s\" % chkpt_dir)"
   ]
  },
  {
   "cell_type": "code",
   "execution_count": 39,
   "metadata": {
    "colab": {
     "base_uri": "https://localhost:8080/"
    },
    "executionInfo": {
     "elapsed": 459,
     "status": "ok",
     "timestamp": 1627832848213,
     "user": {
      "displayName": "Eva G",
      "photoUrl": "",
      "userId": "02505392994695645898"
     },
     "user_tz": -480
    },
    "id": "GHYu2suGCjdp",
    "outputId": "e9c15b99-d2ed-454b-e502-2399a2ddbf60"
   },
   "outputs": [
    {
     "name": "stdout",
     "output_type": "stream",
     "text": [
      "Finish testing.\n",
      "Test NDCG@100=0.42989 (0.00441)\n",
      "Test Recall@20=0.35892 (0.00526)\n",
      "Test Recall@50=0.45418 (0.00531)\n"
     ]
    }
   ],
   "source": [
    "n100_list, r20_list, r50_list = [], [], []\n",
    "pred_all_test = np.empty(shape=(0,n_items))\n",
    "\n",
    "with tf.Session() as sess:\n",
    "    saver.restore(sess, '{}/model'.format(chkpt_dir))\n",
    "\n",
    "    for bnum, st_idx in enumerate(range(0, N_test, batch_size_test)):\n",
    "        end_idx = min(st_idx + batch_size_test, N_test)\n",
    "        X = test_data_tr[idxlist_test[st_idx:end_idx]]\n",
    "\n",
    "        if sparse.isspmatrix(X):\n",
    "            X = X.toarray()\n",
    "        X = X.astype('float32')\n",
    "\n",
    "        pred_val = sess.run(logits_var, feed_dict={vae.input_ph: X})\n",
    "        pred_all_test = np.concatenate((pred_all_test,pred_val),axis=0)\n",
    "        # exclude examples from training and validation (if any)\n",
    "        pred_val[X.nonzero()] = -np.inf\n",
    "        n100_list.append(NDCG_binary_at_k_batch(pred_val, test_data_te[idxlist_test[st_idx:end_idx]], k=100))\n",
    "        r20_list.append(Recall_at_k_batch(pred_val, test_data_te[idxlist_test[st_idx:end_idx]], k=20))\n",
    "        r50_list.append(Recall_at_k_batch(pred_val, test_data_te[idxlist_test[st_idx:end_idx]], k=50))\n",
    "    \n",
    "n100_list = np.concatenate(n100_list)\n",
    "r20_list = np.concatenate(r20_list)\n",
    "r50_list = np.concatenate(r50_list)\n",
    "print('Finish testing.')\n",
    "print(\"Test NDCG@100=%.5f (%.5f)\" % (np.mean(n100_list), np.std(n100_list) / np.sqrt(len(n100_list))))\n",
    "print(\"Test Recall@20=%.5f (%.5f)\" % (np.mean(r20_list), np.std(r20_list) / np.sqrt(len(r20_list))))\n",
    "print(\"Test Recall@50=%.5f (%.5f)\" % (np.mean(r50_list), np.std(r50_list) / np.sqrt(len(r50_list))))"
   ]
  },
  {
   "cell_type": "markdown",
   "metadata": {},
   "source": [
    "## Compute popularity bias measure metrics"
   ]
  },
  {
   "cell_type": "code",
   "execution_count": 40,
   "metadata": {
    "executionInfo": {
     "elapsed": 756,
     "status": "ok",
     "timestamp": 1627832860401,
     "user": {
      "displayName": "Eva G",
      "photoUrl": "",
      "userId": "02505392994695645898"
     },
     "user_tz": -480
    },
    "id": "WU0-_cUxCjdr"
   },
   "outputs": [],
   "source": [
    "sorted_movieId = pd.read_csv('../processed_data/sorted_movieId.csv',header=None,index_col=0)"
   ]
  },
  {
   "cell_type": "code",
   "execution_count": 41,
   "metadata": {
    "executionInfo": {
     "elapsed": 442,
     "status": "ok",
     "timestamp": 1627832862145,
     "user": {
      "displayName": "Eva G",
      "photoUrl": "",
      "userId": "02505392994695645898"
     },
     "user_tz": -480
    },
    "id": "HOf-PT2iCjdr"
   },
   "outputs": [],
   "source": [
    "unique_sid = pd.unique(test_plays['movieId'])"
   ]
  },
  {
   "cell_type": "code",
   "execution_count": 42,
   "metadata": {
    "executionInfo": {
     "elapsed": 267,
     "status": "ok",
     "timestamp": 1627832863811,
     "user": {
      "displayName": "Eva G",
      "photoUrl": "",
      "userId": "02505392994695645898"
     },
     "user_tz": -480
    },
    "id": "xf3uQfzVCjds"
   },
   "outputs": [],
   "source": [
    "id2show = dict((i, sid) for (i, sid) in enumerate(unique_sid)) "
   ]
  },
  {
   "cell_type": "code",
   "execution_count": 43,
   "metadata": {
    "executionInfo": {
     "elapsed": 266,
     "status": "ok",
     "timestamp": 1627832865784,
     "user": {
      "displayName": "Eva G",
      "photoUrl": "",
      "userId": "02505392994695645898"
     },
     "user_tz": -480
    },
    "id": "VvH8BxfQCjdt"
   },
   "outputs": [],
   "source": [
    "def top_k_recList(predictions, id2show, k=10):\n",
    "    n_users = predictions.shape[0]\n",
    "    topk_movieId = []\n",
    "    idx_topk_part = bn.argpartition(-predictions, k, axis=1)[:,:k].tolist()\n",
    "    for i_pred in idx_topk_part:\n",
    "        topk_movieId.append(list(map(lambda x: id2show[x], i_pred)))\n",
    "    return topk_movieId"
   ]
  },
  {
   "cell_type": "code",
   "execution_count": 44,
   "metadata": {
    "executionInfo": {
     "elapsed": 263,
     "status": "ok",
     "timestamp": 1627832867503,
     "user": {
      "displayName": "Eva G",
      "photoUrl": "",
      "userId": "02505392994695645898"
     },
     "user_tz": -480
    },
    "id": "67AQHbl6Cjdt"
   },
   "outputs": [],
   "source": [
    "topk_all_test = top_k_recList(pred_all_test,id2show)\n",
    "topk_all_test = pd.DataFrame(topk_all_test, columns = range(1,11))"
   ]
  },
  {
   "cell_type": "code",
   "execution_count": 45,
   "metadata": {
    "colab": {
     "base_uri": "https://localhost:8080/"
    },
    "executionInfo": {
     "elapsed": 682,
     "status": "ok",
     "timestamp": 1627832869511,
     "user": {
      "displayName": "Eva G",
      "photoUrl": "",
      "userId": "02505392994695645898"
     },
     "user_tz": -480
    },
    "id": "X4DyJJeECjdu",
    "outputId": "2bc730e6-287a-48d9-fdf5-df9d3532d7e7"
   },
   "outputs": [
    {
     "name": "stdout",
     "output_type": "stream",
     "text": [
      "ARP@10: 0.2005, Agg-Div@10: 0.3613\n"
     ]
    }
   ],
   "source": [
    "ARP_at_10 = ARP(topk_all_test,sorted_movieId)\n",
    "Agg_Div_at_10 = Agg_Div(topk_all_test,sorted_movieId)\n",
    "print('ARP@10: {0:.4f}, Agg-Div@10: {1:.4f}'.format(ARP_at_10,Agg_Div_at_10))"
   ]
  },
  {
   "cell_type": "code",
   "execution_count": 46,
   "metadata": {},
   "outputs": [],
   "source": [
    "unique_uid = pd.unique(test_plays['userId'])\n",
    "id2profile = dict((i, uid) for (i, uid) in enumerate(unique_uid)) "
   ]
  },
  {
   "cell_type": "code",
   "execution_count": 47,
   "metadata": {},
   "outputs": [],
   "source": [
    "# read the corresponding user group with their taste distribution\n",
    "G1_user = pd.read_csv('../processed_data/group_data/G1_user.csv',header=0,index_col=0)\n",
    "G2_user = pd.read_csv('../processed_data/group_data/G2_user.csv',header=0,index_col=0)\n",
    "G3_user = pd.read_csv('../processed_data/group_data/G3_user.csv',header=0,index_col=0)"
   ]
  },
  {
   "cell_type": "code",
   "execution_count": 48,
   "metadata": {},
   "outputs": [],
   "source": [
    "topk_all_test['userId'] = list(map(lambda x: id2profile[x], topk_all_test.index))"
   ]
  },
  {
   "cell_type": "code",
   "execution_count": 49,
   "metadata": {},
   "outputs": [],
   "source": [
    "G1_topk = topk_all_test[topk_all_test['userId'].isin(G1_user.index)]\n",
    "G2_topk = topk_all_test[topk_all_test['userId'].isin(G2_user.index)]\n",
    "G3_topk = topk_all_test[topk_all_test['userId'].isin(G3_user.index)]"
   ]
  },
  {
   "cell_type": "code",
   "execution_count": 50,
   "metadata": {},
   "outputs": [
    {
     "name": "stdout",
     "output_type": "stream",
     "text": [
      "ARP@10: 0.1921, Agg-Div@10: 0.1989\n",
      "ARP@10: 0.2060, Agg-Div@10: 0.3060\n",
      "ARP@10: 0.1913, Agg-Div@10: 0.1913\n"
     ]
    }
   ],
   "source": [
    "for topk_rec in [G1_topk, G2_topk, G3_topk]:\n",
    "    ARP_at_10 = ARP(topk_rec[range(1,11)],sorted_movieId)\n",
    "    Agg_Div_at_10 = Agg_Div(topk_rec[range(1,11)],sorted_movieId)\n",
    "    print('ARP@10: {0:.4f}, Agg-Div@10: {1:.4f}'.format(ARP_at_10,Agg_Div_at_10))"
   ]
  },
  {
   "cell_type": "code",
   "execution_count": 51,
   "metadata": {},
   "outputs": [],
   "source": [
    "G1_topk.to_csv('predictions/G1_topk.csv',header=True, index=True)\n",
    "G2_topk.to_csv('predictions/G2_topk.csv',header=True, index=True)\n",
    "G3_topk.to_csv('predictions/G3_topk.csv',header=True, index=True)"
   ]
  },
  {
   "cell_type": "markdown",
   "metadata": {},
   "source": [
    "The user taset of different group is manually computed using Excel. The idea of this computation is to find the probaility of each category of movies which presented in the recommendations list for users."
   ]
  },
  {
   "cell_type": "code",
   "execution_count": 52,
   "metadata": {},
   "outputs": [],
   "source": [
    "G1_user_taste = G1_user.loc[G1_topk['userId']].to_numpy()\n",
    "G2_user_taste = G2_user.loc[G2_topk['userId']].to_numpy()\n",
    "G3_user_taste = G3_user.loc[G3_topk['userId']].to_numpy()"
   ]
  },
  {
   "cell_type": "code",
   "execution_count": 53,
   "metadata": {},
   "outputs": [],
   "source": [
    "G1_rec_taste = pd.read_csv('predictions/G1_rec_taste.csv',header=None).to_numpy()\n",
    "G2_rec_taste = pd.read_csv('predictions/G2_rec_taste.csv',header=None).to_numpy()\n",
    "G3_rec_taste = pd.read_csv('predictions/G3_rec_taste.csv',header=None).to_numpy()"
   ]
  },
  {
   "cell_type": "code",
   "execution_count": 55,
   "metadata": {},
   "outputs": [
    {
     "name": "stdout",
     "output_type": "stream",
     "text": [
      "G1 UDP:0.1205\n",
      "G2 UDP:0.0591\n",
      "G3 UDP:0.0550\n"
     ]
    }
   ],
   "source": [
    "print('G1 UDP:{0:.4f}'.format(group_UDP(G1_user_taste,G1_rec_taste)))\n",
    "print('G2 UDP:{0:.4f}'.format(group_UDP(G2_user_taste,G2_rec_taste)))\n",
    "print('G3 UDP:{0:.4f}'.format(group_UDP(G3_user_taste,G3_rec_taste)))"
   ]
  },
  {
   "cell_type": "markdown",
   "metadata": {},
   "source": [
    "# Transfer data format for long-tail GAN training."
   ]
  },
  {
   "cell_type": "code",
   "execution_count": null,
   "metadata": {},
   "outputs": [],
   "source": [
    "train_plays.to_csv('../long-tail_GAN/Dataset/ml_1m_holdout_user/item_counts.csv',header=['userId','tagId','rating'], index=False)"
   ]
  },
  {
   "cell_type": "code",
   "execution_count": 44,
   "metadata": {},
   "outputs": [],
   "source": [
    "test_plays[['userId','movieId','rating']].to_csv('../long-tail_GAN/Dataset/ml_1m_holdout_user/test_plays.csv',header=['userId','movieId','rating'], index=False)"
   ]
  },
  {
   "cell_type": "code",
   "execution_count": null,
   "metadata": {},
   "outputs": [],
   "source": [
    "vad_data_tr.to_csv('../long-tail_GAN/Dataset/ml_1m_holdout_user/validation_tr.csv', index=False)\n",
    "vad_data_te.to_csv('../long-tail_GAN/Dataset/ml_1m_holdout_user/validation_te.csv', index=False)\n",
    "test_data_tr.to_csv('../long-tail_GAN/Dataset/ml_1m_holdout_user/test_tr.csv', index=False)\n",
    "test_data_te.to_csv('../long-tail_GAN/Dataset/ml_1m_holdout_user/test_te.csv', index=False)"
   ]
  },
  {
   "cell_type": "code",
   "execution_count": null,
   "metadata": {},
   "outputs": [],
   "source": [
    "unique_sid = pd.unique(raw_data['movieId'])\n",
    "unique_uid = user_activity.index"
   ]
  },
  {
   "cell_type": "code",
   "execution_count": null,
   "metadata": {},
   "outputs": [],
   "source": [
    "with open('../long-tail_GAN/Dataset/ml_1m_holdout_user/item_list.txt', 'w') as f:\n",
    "    for sid in unique_sid:\n",
    "        f.write('%s\\n' % sid)"
   ]
  },
  {
   "cell_type": "code",
   "execution_count": null,
   "metadata": {},
   "outputs": [],
   "source": [
    "with open('../long-tail_GAN/Dataset/ml_1m_holdout_user/unique_item_id.txt', 'w') as f:\n",
    "    for (i, sid) in enumerate(unique_sid):\n",
    "        f.write('%s\\n' % i)"
   ]
  },
  {
   "cell_type": "code",
   "execution_count": null,
   "metadata": {},
   "outputs": [],
   "source": [
    "with open('../long-tail_GAN/Dataset/ml_1m_holdout_user/item2id.txt', 'w') as f:\n",
    "    for (i, sid) in enumerate(unique_sid):\n",
    "        f.write('%s\\t%s\\n' % (sid,i))"
   ]
  },
  {
   "cell_type": "code",
   "execution_count": null,
   "metadata": {},
   "outputs": [],
   "source": [
    "with open('../long-tail_GAN/Dataset/ml_1m/profile2id.txt', 'w') as f:\n",
    "    for (i, uid) in enumerate(unique_uid):\n",
    "        f.write('%s\\t%s\\n' % (uid,i))"
   ]
  },
  {
   "cell_type": "code",
   "execution_count": null,
   "metadata": {},
   "outputs": [],
   "source": [
    "with open('../long-tail_GAN/Dataset/ml_1m_holdout_user/niche_items.txt', 'w') as f:\n",
    "    for sid in pd.unique(raw_data[movies_pop == 2]['movieId']):\n",
    "        f.write('%s\\n' % sid)"
   ]
  },
  {
   "cell_type": "code",
   "execution_count": null,
   "metadata": {},
   "outputs": [],
   "source": [
    "numerize(raw_data).to_csv('../long-tail_GAN/Dataset/ml_1m_holdout_user/train_GAN.csv', index=False)"
   ]
  },
  {
   "cell_type": "code",
   "execution_count": null,
   "metadata": {},
   "outputs": [],
   "source": [
    "numerize(raw_data[movies_pop == 1]).to_csv('../long-tail_GAN/Dataset/ml_1m_holdout_user/train_GAN_popular.csv', index=False)"
   ]
  },
  {
   "cell_type": "code",
   "execution_count": null,
   "metadata": {},
   "outputs": [],
   "source": [
    "numerize(raw_data[movies_pop == 2]).to_csv('../long-tail_GAN/Dataset/ml_1m_holdout_user/train_GAN_niche.csv', index=False)"
   ]
  }
 ],
 "metadata": {
  "accelerator": "GPU",
  "colab": {
   "collapsed_sections": [],
   "name": "VAE_CF代码注释版.ipynb",
   "provenance": []
  },
  "kernelspec": {
   "display_name": "Python 3",
   "language": "python",
   "name": "python3"
  },
  "language_info": {
   "codemirror_mode": {
    "name": "ipython",
    "version": 3
   },
   "file_extension": ".py",
   "mimetype": "text/x-python",
   "name": "python",
   "nbconvert_exporter": "python",
   "pygments_lexer": "ipython3",
   "version": "3.7.4"
  }
 },
 "nbformat": 4,
 "nbformat_minor": 4
}
