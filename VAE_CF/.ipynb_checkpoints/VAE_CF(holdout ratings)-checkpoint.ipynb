{
 "cells": [
  {
   "cell_type": "markdown",
   "id": "located-version",
   "metadata": {},
   "source": [
    "# VAE-CF (holdout 20% ratings)\n",
    "## This notebook uses the dataset split approach which 20% ratings of each users are holdout as test set.\n",
    "If a \"FutureWarning: Passing (type, 1)or '1type' as a synonym of type is deprecated; in a future version of numpy, it will be understood as (type, (1,)) / '(1,)type'.\" happens, it is caused by the newer version of numpy which is not consistant with tensorflow. This error can be ignored and will not affect the excution."
   ]
  },
  {
   "cell_type": "code",
   "execution_count": 1,
   "id": "prompt-japanese",
   "metadata": {
    "executionInfo": {
     "elapsed": 654,
     "status": "ok",
     "timestamp": 1627822248164,
     "user": {
      "displayName": "Eva G",
      "photoUrl": "",
      "userId": "02505392994695645898"
     },
     "user_tz": -480
    },
    "id": "357b63a8"
   },
   "outputs": [
    {
     "name": "stderr",
     "output_type": "stream",
     "text": [
      "/opt/conda/lib/python3.7/site-packages/tensorflow/python/framework/dtypes.py:516: FutureWarning: Passing (type, 1) or '1type' as a synonym of type is deprecated; in a future version of numpy, it will be understood as (type, (1,)) / '(1,)type'.\n",
      "  _np_qint8 = np.dtype([(\"qint8\", np.int8, 1)])\n",
      "/opt/conda/lib/python3.7/site-packages/tensorflow/python/framework/dtypes.py:517: FutureWarning: Passing (type, 1) or '1type' as a synonym of type is deprecated; in a future version of numpy, it will be understood as (type, (1,)) / '(1,)type'.\n",
      "  _np_quint8 = np.dtype([(\"quint8\", np.uint8, 1)])\n",
      "/opt/conda/lib/python3.7/site-packages/tensorflow/python/framework/dtypes.py:518: FutureWarning: Passing (type, 1) or '1type' as a synonym of type is deprecated; in a future version of numpy, it will be understood as (type, (1,)) / '(1,)type'.\n",
      "  _np_qint16 = np.dtype([(\"qint16\", np.int16, 1)])\n",
      "/opt/conda/lib/python3.7/site-packages/tensorflow/python/framework/dtypes.py:519: FutureWarning: Passing (type, 1) or '1type' as a synonym of type is deprecated; in a future version of numpy, it will be understood as (type, (1,)) / '(1,)type'.\n",
      "  _np_quint16 = np.dtype([(\"quint16\", np.uint16, 1)])\n",
      "/opt/conda/lib/python3.7/site-packages/tensorflow/python/framework/dtypes.py:520: FutureWarning: Passing (type, 1) or '1type' as a synonym of type is deprecated; in a future version of numpy, it will be understood as (type, (1,)) / '(1,)type'.\n",
      "  _np_qint32 = np.dtype([(\"qint32\", np.int32, 1)])\n",
      "/opt/conda/lib/python3.7/site-packages/tensorflow/python/framework/dtypes.py:525: FutureWarning: Passing (type, 1) or '1type' as a synonym of type is deprecated; in a future version of numpy, it will be understood as (type, (1,)) / '(1,)type'.\n",
      "  np_resource = np.dtype([(\"resource\", np.ubyte, 1)])\n",
      "/opt/conda/lib/python3.7/site-packages/tensorboard/compat/tensorflow_stub/dtypes.py:541: FutureWarning: Passing (type, 1) or '1type' as a synonym of type is deprecated; in a future version of numpy, it will be understood as (type, (1,)) / '(1,)type'.\n",
      "  _np_qint8 = np.dtype([(\"qint8\", np.int8, 1)])\n",
      "/opt/conda/lib/python3.7/site-packages/tensorboard/compat/tensorflow_stub/dtypes.py:542: FutureWarning: Passing (type, 1) or '1type' as a synonym of type is deprecated; in a future version of numpy, it will be understood as (type, (1,)) / '(1,)type'.\n",
      "  _np_quint8 = np.dtype([(\"quint8\", np.uint8, 1)])\n",
      "/opt/conda/lib/python3.7/site-packages/tensorboard/compat/tensorflow_stub/dtypes.py:543: FutureWarning: Passing (type, 1) or '1type' as a synonym of type is deprecated; in a future version of numpy, it will be understood as (type, (1,)) / '(1,)type'.\n",
      "  _np_qint16 = np.dtype([(\"qint16\", np.int16, 1)])\n",
      "/opt/conda/lib/python3.7/site-packages/tensorboard/compat/tensorflow_stub/dtypes.py:544: FutureWarning: Passing (type, 1) or '1type' as a synonym of type is deprecated; in a future version of numpy, it will be understood as (type, (1,)) / '(1,)type'.\n",
      "  _np_quint16 = np.dtype([(\"quint16\", np.uint16, 1)])\n",
      "/opt/conda/lib/python3.7/site-packages/tensorboard/compat/tensorflow_stub/dtypes.py:545: FutureWarning: Passing (type, 1) or '1type' as a synonym of type is deprecated; in a future version of numpy, it will be understood as (type, (1,)) / '(1,)type'.\n",
      "  _np_qint32 = np.dtype([(\"qint32\", np.int32, 1)])\n",
      "/opt/conda/lib/python3.7/site-packages/tensorboard/compat/tensorflow_stub/dtypes.py:550: FutureWarning: Passing (type, 1) or '1type' as a synonym of type is deprecated; in a future version of numpy, it will be understood as (type, (1,)) / '(1,)type'.\n",
      "  np_resource = np.dtype([(\"resource\", np.ubyte, 1)])\n"
     ]
    }
   ],
   "source": [
    "import os\n",
    "import shutil\n",
    "import sys\n",
    "import numpy as np\n",
    "from scipy import sparse\n",
    "import pandas as pd\n",
    "\n",
    "import matplotlib.pyplot as plt\n",
    "%matplotlib inline\n",
    "import seaborn as sn\n",
    "sn.set()\n",
    "\n",
    "import tensorflow as tf\n",
    "from tensorflow.contrib.layers import apply_regularization, l2_regularizer\n",
    "tf.compat.v1.logging.set_verbosity(tf.compat.v1.logging.ERROR)\n",
    "\n",
    "import bottleneck as bn\n",
    "import time\n",
    "from support_func import *\n",
    "from evaluation_func import *\n",
    "from VAE_CF import MultiVAE"
   ]
  },
  {
   "cell_type": "code",
   "execution_count": 2,
   "id": "arabic-disclaimer",
   "metadata": {
    "executionInfo": {
     "elapsed": 239,
     "status": "ok",
     "timestamp": 1627822254620,
     "user": {
      "displayName": "Eva G",
      "photoUrl": "",
      "userId": "02505392994695645898"
     },
     "user_tz": -480
    },
    "id": "1c01f7b8"
   },
   "outputs": [],
   "source": [
    "DATA_DIR = '../processed_data/'"
   ]
  },
  {
   "cell_type": "code",
   "execution_count": 3,
   "id": "polish-horizon",
   "metadata": {
    "executionInfo": {
     "elapsed": 2196,
     "status": "ok",
     "timestamp": 1627822258403,
     "user": {
      "displayName": "Eva G",
      "photoUrl": "",
      "userId": "02505392994695645898"
     },
     "user_tz": -480
    },
    "id": "3ae2b863"
   },
   "outputs": [],
   "source": [
    "# 训练集：save the corrsponding rating of users from each user group\n",
    "data_train = pd.read_csv(os.path.join(DATA_DIR,'data_train.csv'),header=None, names=['userId', 'movieId','rating'])\n",
    "data_test = pd.read_csv(os.path.join(DATA_DIR,'data_test.csv'),header=None, names=['userId', 'movieId','rating'])"
   ]
  },
  {
   "cell_type": "code",
   "execution_count": 4,
   "id": "broken-river",
   "metadata": {
    "colab": {
     "base_uri": "https://localhost:8080/"
    },
    "executionInfo": {
     "elapsed": 15626,
     "status": "ok",
     "timestamp": 1627822278923,
     "user": {
      "displayName": "Eva G",
      "photoUrl": "",
      "userId": "02505392994695645898"
     },
     "user_tz": -480
    },
    "id": "b6acc990",
    "outputId": "91078ad7-b4c7-4619-ffb9-576cf91c0839",
    "scrolled": true
   },
   "outputs": [
    {
     "name": "stdout",
     "output_type": "stream",
     "text": [
      "Training set contains: 60.36% ratings,\n",
      "Validation set contains: 19.88% ratings,\n",
      "Test set contains: 19.76% ratings\n"
     ]
    }
   ],
   "source": [
    "total_size = data_train.shape[0] + data_test.shape[0]\n",
    "data_train, data_val = split_train_test_proportion(data_train, test_prop=0.25)\n",
    "print('Training set contains: {0:.2f}% ratings,\\nValidation set contains: {1:.2f}% ratings,\\nTest set contains: {2:.2f}% ratings'.format(100*data_train.shape[0]/total_size, 100*data_val.shape[0]/total_size, 100*data_test.shape[0]/total_size))\n",
    "\n",
    "data_val_train, data_val_test = split_train_test_proportion(data_val, test_prop=0.2)\n",
    "data_test_train, data_test_test = split_train_test_proportion(data_test, test_prop=0.2)"
   ]
  },
  {
   "cell_type": "code",
   "execution_count": 6,
   "id": "false-harvest",
   "metadata": {
    "executionInfo": {
     "elapsed": 1248,
     "status": "ok",
     "timestamp": 1627822282174,
     "user": {
      "displayName": "Eva G",
      "photoUrl": "",
      "userId": "02505392994695645898"
     },
     "user_tz": -480
    },
    "id": "ec491161"
   },
   "outputs": [],
   "source": [
    "unique_movieId = list()\n",
    "with open(os.path.join(DATA_DIR, 'VAE_CF/unique_movieId.txt'), 'r') as f:\n",
    "    for line in f:\n",
    "        unique_movieId.append(int(line.strip()))\n",
    "unique_userId = list()\n",
    "with open(os.path.join(DATA_DIR, 'VAE_CF/unique_userId.txt'), 'r') as f:\n",
    "    for line in f:\n",
    "        unique_userId.append(int(line.strip()))\n",
    "\n",
    "n_items = len(unique_movieId)\n",
    "n_users = len(unique_userId)"
   ]
  },
  {
   "cell_type": "code",
   "execution_count": 7,
   "id": "terminal-timeline",
   "metadata": {
    "executionInfo": {
     "elapsed": 230,
     "status": "ok",
     "timestamp": 1627822289969,
     "user": {
      "displayName": "Eva G",
      "photoUrl": "",
      "userId": "02505392994695645898"
     },
     "user_tz": -480
    },
    "id": "3604b025"
   },
   "outputs": [],
   "source": [
    "# show2id： {movieId: index in unique_movieId}\n",
    "movieId2index = dict((movieId, i) for (i, movieId) in enumerate(unique_movieId)) \n",
    "# profile2id： {userId: index in unique_userId}\n",
    "userId2index = dict((userId, i) for (i, userId) in enumerate(unique_userId))"
   ]
  },
  {
   "cell_type": "code",
   "execution_count": 8,
   "id": "alert-layer",
   "metadata": {
    "executionInfo": {
     "elapsed": 260,
     "status": "ok",
     "timestamp": 1627822292080,
     "user": {
      "displayName": "Eva G",
      "photoUrl": "",
      "userId": "02505392994695645898"
     },
     "user_tz": -480
    },
    "id": "e8e6bd9e"
   },
   "outputs": [],
   "source": [
    "def numerize(tp):\n",
    "    user_index = list(map(lambda x: userId2index[x], tp['userId']))# 这里在map外面加了list 后续pandas才能处理\n",
    "    movie_index = list(map(lambda x: movieId2index[x], tp['movieId']))\n",
    "    return pd.DataFrame(data={'user_index': user_index, 'movie_index': movie_index}, columns=['user_index', 'movie_index'])"
   ]
  },
  {
   "cell_type": "code",
   "execution_count": 9,
   "id": "dated-annotation",
   "metadata": {
    "executionInfo": {
     "elapsed": 1337,
     "status": "ok",
     "timestamp": 1627822304482,
     "user": {
      "displayName": "Eva G",
      "photoUrl": "",
      "userId": "02505392994695645898"
     },
     "user_tz": -480
    },
    "id": "c5e94c11"
   },
   "outputs": [],
   "source": [
    "data_train_indexmap = numerize(data_train)\n",
    "data_val_train_indexmap = numerize(data_val_train)\n",
    "data_val_test_indexmap = numerize(data_val_test)\n",
    "data_test_train_indexmap = numerize(data_test_train)\n",
    "data_test_test_indexmap = numerize(data_test_test)"
   ]
  },
  {
   "cell_type": "code",
   "execution_count": 10,
   "id": "minimal-switch",
   "metadata": {
    "executionInfo": {
     "elapsed": 2755,
     "status": "ok",
     "timestamp": 1627822320805,
     "user": {
      "displayName": "Eva G",
      "photoUrl": "",
      "userId": "02505392994695645898"
     },
     "user_tz": -480
    },
    "id": "HlTXUDODxRyB"
   },
   "outputs": [],
   "source": [
    "data_train_indexmap.to_csv(os.path.join(DATA_DIR, 'VAE_CF/train.csv'), index=False)\n",
    "data_val_train_indexmap.to_csv(os.path.join(DATA_DIR, 'VAE_CF/validation_tr.csv'), index=False)\n",
    "data_val_test_indexmap.to_csv(os.path.join(DATA_DIR, 'VAE_CF/validation_te.csv'), index=False)\n",
    "data_test_train_indexmap.to_csv(os.path.join(DATA_DIR, 'VAE_CF/test_tr.csv'), index=False)\n",
    "data_test_test_indexmap.to_csv(os.path.join(DATA_DIR, 'VAE_CF/test_te.csv'), index=False)"
   ]
  },
  {
   "cell_type": "code",
   "execution_count": 11,
   "id": "particular-class",
   "metadata": {
    "executionInfo": {
     "elapsed": 652,
     "status": "ok",
     "timestamp": 1627822322780,
     "user": {
      "displayName": "Eva G",
      "photoUrl": "",
      "userId": "02505392994695645898"
     },
     "user_tz": -480
    },
    "id": "cd16a18c"
   },
   "outputs": [],
   "source": [
    "data_train = load_train_data(os.path.join(DATA_DIR, 'VAE_CF/train.csv'),n_items)\n",
    "data_val_train, data_val_test = load_tr_te_data(os.path.join(DATA_DIR, 'VAE_CF/validation_tr.csv'),\n",
    "                                           os.path.join(DATA_DIR, 'VAE_CF/validation_te.csv'),n_items)"
   ]
  },
  {
   "cell_type": "markdown",
   "id": "apparent-camera",
   "metadata": {},
   "source": [
    "Build the network structure"
   ]
  },
  {
   "cell_type": "code",
   "execution_count": 55,
   "id": "effective-convention",
   "metadata": {
    "executionInfo": {
     "elapsed": 675,
     "status": "ok",
     "timestamp": 1627822342821,
     "user": {
      "displayName": "Eva G",
      "photoUrl": "",
      "userId": "02505392994695645898"
     },
     "user_tz": -480
    },
    "id": "26428b0e"
   },
   "outputs": [],
   "source": [
    "p_dims = [200, 600, n_items]\n",
    "tf.reset_default_graph()\n",
    "vae = MultiVAE(p_dims, lam=0.0, random_seed=98765)\n",
    "saver, logits_var, loss_var, train_op_var, merged_var = vae.build_graph()"
   ]
  },
  {
   "cell_type": "markdown",
   "id": "compound-newspaper",
   "metadata": {},
   "source": [
    "Set up training hyperparameters"
   ]
  },
  {
   "cell_type": "code",
   "execution_count": 13,
   "id": "conditional-applicant",
   "metadata": {
    "executionInfo": {
     "elapsed": 318,
     "status": "ok",
     "timestamp": 1627822344765,
     "user": {
      "displayName": "Eva G",
      "photoUrl": "",
      "userId": "02505392994695645898"
     },
     "user_tz": -480
    },
    "id": "20565a5b"
   },
   "outputs": [],
   "source": [
    "N = data_train.shape[0]\n",
    "idxlist = list(range(N))\n",
    "\n",
    "# training batch size\n",
    "batch_size = 500\n",
    "batches_per_epoch = int(np.ceil(float(N) / batch_size))\n",
    "\n",
    "N_vad = data_val_train.shape[0]\n",
    "idxlist_vad = list(range(N_vad))\n",
    "\n",
    "# validation batch size (since the entire validation set might not fit into GPU memory)\n",
    "batch_size_vad = 2000\n",
    "\n",
    "# the total number of gradient updates for annealing\n",
    "total_anneal_steps = 200000\n",
    "# largest annealing parameter\n",
    "anneal_cap = 0.2"
   ]
  },
  {
   "cell_type": "markdown",
   "id": "sixth-phone",
   "metadata": {},
   "source": [
    "Create checkpoint and log directory"
   ]
  },
  {
   "cell_type": "code",
   "execution_count": 15,
   "id": "detailed-tracker",
   "metadata": {
    "colab": {
     "base_uri": "https://localhost:8080/"
    },
    "executionInfo": {
     "elapsed": 247,
     "status": "ok",
     "timestamp": 1627822585979,
     "user": {
      "displayName": "Eva G",
      "photoUrl": "",
      "userId": "02505392994695645898"
     },
     "user_tz": -480
    },
    "id": "94087a39",
    "outputId": "b6db89ea-1c92-46e2-887c-09e9a047322e"
   },
   "outputs": [
    {
     "name": "stdout",
     "output_type": "stream",
     "text": [
      "log directory: log/ml-1m-holdout-ratings/VAE_anneal200.0K_cap2.0E-01/I-600-200-600-I_v2\n",
      "chkpt directory: chkpt/ml-1m-holdout-ratings/VAE_anneal200.0K_cap2.0E-01/I-600-200-600-I_v2\n"
     ]
    }
   ],
   "source": [
    "arch_str = \"I-%s-I\" % ('-'.join([str(d) for d in vae.dims[1:-1]]))\n",
    "model_name = 'ml-1m-holdout-ratings'\n",
    "\n",
    "model_save_path = ''\n",
    "log_dir = os.path.join(model_save_path,'log/{}/VAE_anneal{}K_cap{:1.1E}/{}_v2'.format(model_name,\n",
    "    total_anneal_steps/1000, anneal_cap, arch_str))\n",
    "\n",
    "if not os.path.isdir(log_dir):\n",
    "    os.makedirs(log_dir) \n",
    "if os.path.exists(log_dir):\n",
    "    shutil.rmtree(log_dir)\n",
    "\n",
    "print(\"log directory: %s\" % log_dir)\n",
    "summary_writer = tf.summary.FileWriter(log_dir, graph=tf.get_default_graph())\n",
    "\n",
    "\n",
    "chkpt_dir = os.path.join(model_save_path,'chkpt/{}/VAE_anneal{}K_cap{:1.1E}/{}_v2'.format(model_name,\n",
    "    total_anneal_steps/1000, anneal_cap, arch_str))\n",
    "\n",
    "if not os.path.isdir(chkpt_dir):\n",
    "    os.makedirs(chkpt_dir) \n",
    "    \n",
    "print(\"chkpt directory: %s\" % chkpt_dir)"
   ]
  },
  {
   "cell_type": "markdown",
   "id": "caroline-sudan",
   "metadata": {},
   "source": [
    "### Train the model"
   ]
  },
  {
   "cell_type": "code",
   "execution_count": 19,
   "id": "integral-thong",
   "metadata": {
    "colab": {
     "base_uri": "https://localhost:8080/",
     "height": 521
    },
    "executionInfo": {
     "elapsed": 31352,
     "status": "error",
     "timestamp": 1627822668445,
     "user": {
      "displayName": "Eva G",
      "photoUrl": "",
      "userId": "02505392994695645898"
     },
     "user_tz": -480
    },
    "id": "0031584f",
    "outputId": "2abc21cd-61eb-4345-f3ea-65833e981049",
    "scrolled": true
   },
   "outputs": [
    {
     "name": "stdout",
     "output_type": "stream",
     "text": [
      "Start training...\n",
      "Epoch :1, Time:1.14 seconds, Loss: 788.5729\n",
      "Epoch :2, Time:0.85 seconds, Loss: 767.3365\n",
      "Epoch :3, Time:0.98 seconds, Loss: 752.6314\n",
      "Epoch :4, Time:1.09 seconds, Loss: 737.5247\n",
      "Epoch :5, Time:0.97 seconds, Loss: 736.5706\n",
      "Epoch :6, Time:0.97 seconds, Loss: 724.5847\n",
      "Epoch :7, Time:0.99 seconds, Loss: 721.6490\n",
      "Epoch :8, Time:1.01 seconds, Loss: 725.2165\n",
      "Epoch :9, Time:1.06 seconds, Loss: 729.4337\n",
      "Epoch :10, Time:0.90 seconds, Loss: 706.0631\n",
      "Epoch :11, Time:0.85 seconds, Loss: 710.5319\n",
      "Epoch :12, Time:0.99 seconds, Loss: 708.5240\n",
      "Epoch :13, Time:0.89 seconds, Loss: 715.0547\n",
      "Epoch :14, Time:0.94 seconds, Loss: 698.7852\n",
      "Epoch :15, Time:1.01 seconds, Loss: 696.9320\n",
      "Epoch :16, Time:1.00 seconds, Loss: 693.3011\n",
      "Epoch :17, Time:0.87 seconds, Loss: 697.3978\n",
      "Epoch :18, Time:0.87 seconds, Loss: 695.1766\n",
      "Epoch :19, Time:0.87 seconds, Loss: 688.7108\n",
      "Epoch :20, Time:0.99 seconds, Loss: 699.5574\n",
      "Epoch :21, Time:1.11 seconds, Loss: 686.0577\n",
      "Epoch :22, Time:0.99 seconds, Loss: 714.7678\n",
      "Epoch :23, Time:0.85 seconds, Loss: 720.4338\n",
      "Epoch :24, Time:1.01 seconds, Loss: 715.5014\n",
      "Epoch :25, Time:0.93 seconds, Loss: 692.1181\n",
      "Epoch :26, Time:0.97 seconds, Loss: 697.1290\n",
      "Epoch :27, Time:0.98 seconds, Loss: 690.4348\n",
      "Epoch :28, Time:0.88 seconds, Loss: 686.8243\n",
      "Epoch :29, Time:1.10 seconds, Loss: 691.2592\n",
      "Epoch :30, Time:0.90 seconds, Loss: 676.2441\n",
      "Epoch :31, Time:0.88 seconds, Loss: 690.4524\n",
      "Epoch :32, Time:0.88 seconds, Loss: 696.5915\n",
      "Epoch :33, Time:0.92 seconds, Loss: 691.4186\n",
      "Epoch :34, Time:0.96 seconds, Loss: 680.7543\n",
      "Epoch :35, Time:0.87 seconds, Loss: 687.4358\n",
      "Epoch :36, Time:1.04 seconds, Loss: 685.0113\n",
      "Epoch :37, Time:0.99 seconds, Loss: 685.8051\n",
      "Epoch :38, Time:0.93 seconds, Loss: 683.1000\n",
      "Epoch :39, Time:0.89 seconds, Loss: 679.6168\n",
      "Epoch :40, Time:0.85 seconds, Loss: 669.2520\n",
      "Epoch :41, Time:0.87 seconds, Loss: 680.0500\n",
      "Epoch :42, Time:1.05 seconds, Loss: 698.4941\n",
      "Epoch :43, Time:0.97 seconds, Loss: 691.9752\n",
      "Epoch :44, Time:0.84 seconds, Loss: 671.6964\n",
      "Epoch :45, Time:0.86 seconds, Loss: 677.0278\n",
      "Epoch :46, Time:0.96 seconds, Loss: 672.2701\n",
      "Epoch :47, Time:0.94 seconds, Loss: 675.8386\n",
      "Epoch :48, Time:0.90 seconds, Loss: 661.1039\n",
      "Epoch :49, Time:0.93 seconds, Loss: 670.2705\n",
      "Epoch :50, Time:0.87 seconds, Loss: 678.1272\n",
      "Epoch :51, Time:0.89 seconds, Loss: 667.8938\n",
      "Epoch :52, Time:0.95 seconds, Loss: 695.9467\n",
      "Epoch :53, Time:0.90 seconds, Loss: 675.9990\n",
      "Epoch :54, Time:0.85 seconds, Loss: 671.6415\n",
      "Epoch :55, Time:0.92 seconds, Loss: 672.4470\n",
      "Epoch :56, Time:0.97 seconds, Loss: 663.0665\n",
      "Epoch :57, Time:0.80 seconds, Loss: 671.7315\n",
      "Epoch :58, Time:0.84 seconds, Loss: 657.9698\n",
      "Epoch :59, Time:0.89 seconds, Loss: 666.3663\n",
      "Epoch :60, Time:0.92 seconds, Loss: 666.6432\n",
      "Epoch :61, Time:0.87 seconds, Loss: 684.1874\n",
      "Epoch :62, Time:1.00 seconds, Loss: 654.7214\n",
      "Epoch :63, Time:0.95 seconds, Loss: 658.7198\n",
      "Epoch :64, Time:0.84 seconds, Loss: 686.0133\n",
      "Epoch :65, Time:0.82 seconds, Loss: 679.3591\n",
      "Epoch :66, Time:0.89 seconds, Loss: 661.4174\n",
      "Epoch :67, Time:0.88 seconds, Loss: 666.6868\n",
      "Epoch :68, Time:0.87 seconds, Loss: 667.1036\n",
      "Epoch :69, Time:0.82 seconds, Loss: 664.1397\n",
      "Epoch :70, Time:0.88 seconds, Loss: 656.9551\n",
      "Epoch :71, Time:0.79 seconds, Loss: 668.2458\n",
      "Epoch :72, Time:0.83 seconds, Loss: 666.5903\n",
      "Epoch :73, Time:0.86 seconds, Loss: 659.8834\n",
      "Epoch :74, Time:0.86 seconds, Loss: 651.6774\n",
      "Epoch :75, Time:0.87 seconds, Loss: 663.4941\n",
      "Epoch :76, Time:0.90 seconds, Loss: 657.3113\n",
      "Epoch :77, Time:0.83 seconds, Loss: 665.6650\n",
      "Epoch :78, Time:1.11 seconds, Loss: 660.9711\n",
      "Epoch :79, Time:0.85 seconds, Loss: 673.4804\n",
      "Epoch :80, Time:0.98 seconds, Loss: 663.7123\n",
      "Epoch :81, Time:1.09 seconds, Loss: 649.4824\n",
      "Epoch :82, Time:0.79 seconds, Loss: 669.0525\n",
      "Epoch :83, Time:0.93 seconds, Loss: 661.3263\n",
      "Epoch :84, Time:0.92 seconds, Loss: 650.6996\n",
      "Epoch :85, Time:0.98 seconds, Loss: 652.8605\n",
      "Epoch :86, Time:0.81 seconds, Loss: 652.9937\n",
      "Epoch :87, Time:0.81 seconds, Loss: 645.1093\n",
      "Epoch :88, Time:0.86 seconds, Loss: 651.8363\n",
      "Epoch :89, Time:0.79 seconds, Loss: 651.2125\n",
      "Epoch :90, Time:0.90 seconds, Loss: 641.3409\n",
      "Epoch :91, Time:1.45 seconds, Loss: 663.4055\n",
      "Epoch :92, Time:0.84 seconds, Loss: 643.5142\n",
      "Epoch :93, Time:1.00 seconds, Loss: 647.8265\n",
      "Epoch :94, Time:1.34 seconds, Loss: 657.4495\n",
      "Epoch :95, Time:0.86 seconds, Loss: 652.2968\n",
      "Epoch :96, Time:1.29 seconds, Loss: 653.8182\n",
      "Epoch :97, Time:0.90 seconds, Loss: 640.8445\n",
      "Epoch :98, Time:0.99 seconds, Loss: 649.3428\n",
      "Epoch :99, Time:0.83 seconds, Loss: 655.0219\n",
      "Epoch :100, Time:0.86 seconds, Loss: 634.0770\n",
      "Epoch :101, Time:0.82 seconds, Loss: 672.8409\n",
      "Epoch :102, Time:0.89 seconds, Loss: 646.7567\n",
      "Epoch :103, Time:0.85 seconds, Loss: 643.4372\n",
      "Epoch :104, Time:0.90 seconds, Loss: 643.0437\n",
      "Epoch :105, Time:1.10 seconds, Loss: 671.9899\n",
      "Epoch :106, Time:0.87 seconds, Loss: 670.8595\n",
      "Epoch :107, Time:0.87 seconds, Loss: 654.9581\n",
      "Epoch :108, Time:0.85 seconds, Loss: 652.2040\n",
      "Epoch :109, Time:0.81 seconds, Loss: 646.7015\n",
      "Epoch :110, Time:0.84 seconds, Loss: 644.8895\n",
      "Epoch :111, Time:0.97 seconds, Loss: 634.8174\n",
      "Epoch :112, Time:0.90 seconds, Loss: 638.7061\n",
      "Epoch :113, Time:0.92 seconds, Loss: 651.7535\n",
      "Epoch :114, Time:0.91 seconds, Loss: 645.9578\n",
      "Epoch :115, Time:0.89 seconds, Loss: 651.2751\n",
      "Epoch :116, Time:0.80 seconds, Loss: 654.3594\n",
      "Epoch :117, Time:0.81 seconds, Loss: 630.3440\n",
      "Epoch :118, Time:0.80 seconds, Loss: 660.2883\n",
      "Epoch :119, Time:0.82 seconds, Loss: 647.5224\n",
      "Epoch :120, Time:0.96 seconds, Loss: 631.9698\n",
      "Epoch :121, Time:0.83 seconds, Loss: 639.7449\n",
      "Epoch :122, Time:0.88 seconds, Loss: 638.9965\n",
      "Epoch :123, Time:0.84 seconds, Loss: 642.5629\n",
      "Epoch :124, Time:0.83 seconds, Loss: 631.4659\n",
      "Epoch :125, Time:0.89 seconds, Loss: 649.0710\n",
      "Epoch :126, Time:0.85 seconds, Loss: 652.5587\n",
      "Epoch :127, Time:0.81 seconds, Loss: 637.8424\n",
      "Epoch :128, Time:0.92 seconds, Loss: 642.1868\n",
      "Epoch :129, Time:0.81 seconds, Loss: 649.7386\n",
      "Epoch :130, Time:0.81 seconds, Loss: 637.7057\n",
      "Epoch :131, Time:0.86 seconds, Loss: 642.7292\n",
      "Epoch :132, Time:0.82 seconds, Loss: 629.1625\n",
      "Epoch :133, Time:1.00 seconds, Loss: 635.0117\n",
      "Epoch :134, Time:0.84 seconds, Loss: 656.1060\n",
      "Epoch :135, Time:0.83 seconds, Loss: 638.7521\n",
      "Epoch :136, Time:0.79 seconds, Loss: 638.7496\n",
      "Epoch :137, Time:0.88 seconds, Loss: 637.6989\n",
      "Epoch :138, Time:0.79 seconds, Loss: 644.6667\n",
      "Epoch :139, Time:1.07 seconds, Loss: 634.0715\n",
      "Epoch :140, Time:0.85 seconds, Loss: 635.0648\n",
      "Epoch :141, Time:0.75 seconds, Loss: 623.0630\n",
      "Epoch :142, Time:0.80 seconds, Loss: 640.1511\n",
      "Epoch :143, Time:0.88 seconds, Loss: 668.0784\n",
      "Epoch :144, Time:0.84 seconds, Loss: 636.6070\n",
      "Epoch :145, Time:0.78 seconds, Loss: 633.1519\n",
      "Epoch :146, Time:0.85 seconds, Loss: 644.5826\n",
      "Epoch :147, Time:0.82 seconds, Loss: 640.0455\n",
      "Epoch :148, Time:0.82 seconds, Loss: 639.9234\n",
      "Epoch :149, Time:0.83 seconds, Loss: 634.5494\n",
      "Epoch :150, Time:0.85 seconds, Loss: 654.9724\n",
      "Epoch :151, Time:0.87 seconds, Loss: 641.3451\n",
      "Epoch :152, Time:0.83 seconds, Loss: 629.5492\n",
      "Epoch :153, Time:0.79 seconds, Loss: 631.2096\n",
      "Epoch :154, Time:0.78 seconds, Loss: 635.8206\n",
      "Epoch :155, Time:0.80 seconds, Loss: 629.7158\n",
      "Epoch :156, Time:0.86 seconds, Loss: 630.6080\n",
      "Epoch :157, Time:0.82 seconds, Loss: 643.0861\n",
      "Epoch :158, Time:0.81 seconds, Loss: 629.6981\n",
      "Epoch :159, Time:0.80 seconds, Loss: 636.0554\n",
      "Epoch :160, Time:0.77 seconds, Loss: 621.6658\n",
      "Epoch :161, Time:0.85 seconds, Loss: 627.0507\n",
      "Epoch :162, Time:0.84 seconds, Loss: 621.5007\n",
      "Epoch :163, Time:0.82 seconds, Loss: 634.6345\n",
      "Epoch :164, Time:0.85 seconds, Loss: 633.7998\n",
      "Epoch :165, Time:0.83 seconds, Loss: 632.4625\n",
      "Epoch :166, Time:0.80 seconds, Loss: 639.5079\n",
      "Epoch :167, Time:0.83 seconds, Loss: 638.4753\n",
      "Epoch :168, Time:0.84 seconds, Loss: 633.4442\n",
      "Epoch :169, Time:0.82 seconds, Loss: 628.2402\n",
      "Epoch :170, Time:0.81 seconds, Loss: 638.3612\n",
      "Epoch :171, Time:0.84 seconds, Loss: 634.9529\n",
      "Epoch :172, Time:0.89 seconds, Loss: 626.2410\n",
      "Epoch :173, Time:0.85 seconds, Loss: 636.3329\n",
      "Epoch :174, Time:0.83 seconds, Loss: 614.3689\n",
      "Epoch :175, Time:0.82 seconds, Loss: 629.3122\n",
      "Epoch :176, Time:0.82 seconds, Loss: 636.8457\n",
      "Epoch :177, Time:0.87 seconds, Loss: 637.0065\n",
      "Epoch :178, Time:0.87 seconds, Loss: 637.6205\n",
      "Epoch :179, Time:0.80 seconds, Loss: 620.2678\n",
      "Epoch :180, Time:0.79 seconds, Loss: 627.1976\n",
      "Epoch :181, Time:0.85 seconds, Loss: 650.2468\n",
      "Epoch :182, Time:0.80 seconds, Loss: 619.8558\n",
      "Epoch :183, Time:0.79 seconds, Loss: 628.7600\n",
      "Epoch :184, Time:0.81 seconds, Loss: 611.2217\n",
      "Epoch :185, Time:0.84 seconds, Loss: 622.8137\n",
      "Epoch :186, Time:0.87 seconds, Loss: 630.1113\n",
      "Epoch :187, Time:0.83 seconds, Loss: 619.8016\n",
      "Epoch :188, Time:0.83 seconds, Loss: 637.2081\n",
      "Epoch :189, Time:0.84 seconds, Loss: 637.3125\n",
      "Epoch :190, Time:0.86 seconds, Loss: 626.6326\n",
      "Epoch :191, Time:0.89 seconds, Loss: 626.8109\n",
      "Epoch :192, Time:0.84 seconds, Loss: 618.9673\n",
      "Epoch :193, Time:0.86 seconds, Loss: 620.2455\n",
      "Epoch :194, Time:0.92 seconds, Loss: 633.9146\n",
      "Epoch :195, Time:0.93 seconds, Loss: 643.1699\n",
      "Epoch :196, Time:0.86 seconds, Loss: 623.7805\n",
      "Epoch :197, Time:0.87 seconds, Loss: 635.2933\n",
      "Epoch :198, Time:0.81 seconds, Loss: 627.1491\n",
      "Epoch :199, Time:0.78 seconds, Loss: 638.0215\n",
      "Epoch :200, Time:0.78 seconds, Loss: 645.1363\n",
      "Finish training.\n"
     ]
    }
   ],
   "source": [
    "n_epochs = 200\n",
    "ndcgs_vad = []\n",
    "loss_log = []\n",
    "\n",
    "with tf.Session() as sess:\n",
    "    print('Start training...')\n",
    "\n",
    "    init = tf.global_variables_initializer()\n",
    "    sess.run(init)\n",
    "\n",
    "    best_ndcg = -np.inf\n",
    "\n",
    "    update_count = 0.0\n",
    "    \n",
    "    for epoch in range(n_epochs):\n",
    "        t_start = time.time()\n",
    "        np.random.shuffle(idxlist)\n",
    "        loss_batch = []\n",
    "        # train for one epoch\n",
    "        for bnum, st_idx in enumerate(list(range(0, N, batch_size))):\n",
    "            end_idx = min(st_idx + batch_size, N)  #找到每个batch的起止点\n",
    "            X = data_train[idxlist[st_idx:end_idx]]\n",
    "            \n",
    "            if sparse.isspmatrix(X):\n",
    "                X = X.toarray()\n",
    "            X = X.astype('float32')           \n",
    "            \n",
    "            if total_anneal_steps > 0:\n",
    "                anneal = min(anneal_cap, 1. * update_count / total_anneal_steps) # 动态规划anneal， 这个是KL的beta？\n",
    "            else:\n",
    "                anneal = anneal_cap # 如果没有设定最大anneal步数，就直接统一anneal为最大值 anneal_cap\n",
    "            \n",
    "            feed_dict = {vae.input_ph: X, \n",
    "                         vae.keep_prob_ph: 0.5, \n",
    "                         vae.anneal_ph: anneal,\n",
    "                         vae.is_training_ph: 1}        \n",
    "            _, loss = sess.run([train_op_var, loss_var], feed_dict=feed_dict)\n",
    "\n",
    "            if bnum % 100 == 0:\n",
    "                summary_train = sess.run(merged_var, feed_dict=feed_dict)\n",
    "                summary_writer.add_summary(summary_train, \n",
    "                                           global_step=epoch * batches_per_epoch + bnum) \n",
    "            \n",
    "            update_count += 1 #每个iteration加一\n",
    "            loss_batch.append(loss)\n",
    "        loss_log.append(np.mean(loss_batch))\n",
    "        t_end = time.time()\n",
    "        print('Epoch :{0:.0f}, Time:{1:.2f} seconds, Loss: {2:.4f}'.format(epoch+1,t_end-t_start, np.mean(loss_batch))) #\n",
    "        \n",
    "        # compute validation NDCG\n",
    "        ndcg_dist = []\n",
    "        for bnum, st_idx in enumerate(list(range(0, N_vad, batch_size_vad))):\n",
    "            end_idx = min(st_idx + batch_size_vad, N_vad)\n",
    "            X = data_val_train[idxlist_vad[st_idx:end_idx]]\n",
    "\n",
    "            if sparse.isspmatrix(X):\n",
    "                X = X.toarray()\n",
    "            X = X.astype('float32')\n",
    "        \n",
    "            pred_val = sess.run(logits_var, feed_dict={vae.input_ph: X})\n",
    "            # exclude examples from training and validation (if any)\n",
    "            pred_val[X.nonzero()] = -np.inf\n",
    "            ndcg_dist.append(NDCG_binary_at_k_batch(pred_val, data_val_test[idxlist_vad[st_idx:end_idx]]))\n",
    "        \n",
    "        ndcg_dist = np.concatenate(ndcg_dist)\n",
    "        ndcg_ = np.nansum(ndcg_dist)/len(ndcg_dist)\n",
    "        ndcgs_vad.append(ndcg_)\n",
    "\n",
    "        # update the best model (if necessary)\n",
    "        if ndcg_ > best_ndcg:\n",
    "            saver.save(sess, '{}/model'.format(chkpt_dir))\n",
    "            best_ndcg = ndcg_\n",
    "print('Finish training.')"
   ]
  },
  {
   "cell_type": "code",
   "execution_count": 53,
   "id": "meaning-showcase",
   "metadata": {
    "id": "13e0b212",
    "outputId": "65349698-84c0-4e3f-813a-67e86f5cf5f0"
   },
   "outputs": [
    {
     "data": {
      "image/png": "[encoded data removed]",
      "text/plain": [
       "<Figure size 576x288 with 2 Axes>"
      ]
     },
     "metadata": {},
     "output_type": "display_data"
    }
   ],
   "source": [
    "sn.set(style='white')\n",
    "fig, ax = plt.subplots(figsize=(8,4))\n",
    "twin1 = ax.twinx()\n",
    "ndcg_line, = ax.plot(ndcgs_vad, \"b-\", label='NDCG@100')\n",
    "loss_line, = twin1.plot(loss_log, \"r-\", label='Traing Loss')\n",
    "ax.set_ylabel(\"NDCG@100\")\n",
    "twin1.set_ylabel(\"Traing Loss\")\n",
    "ax.set_xlabel(\"Epochs\")\n",
    "ax.legend(handles=[ndcg_line, loss_line], loc=7)\n",
    "plt.savefig('../plots/VAE-training(holdout ratings).pdf', bbox_inches = 'tight')\n",
    "plt.show()"
   ]
  },
  {
   "cell_type": "markdown",
   "id": "sixth-valuable",
   "metadata": {},
   "source": [
    "### Test and Generate recommendation list"
   ]
  },
  {
   "cell_type": "code",
   "execution_count": 57,
   "id": "periodic-tourism",
   "metadata": {},
   "outputs": [],
   "source": [
    "data_test = pd.read_csv(os.path.join(DATA_DIR,'data_test.csv'),header=None, names=['userId', 'movieId','rating'])"
   ]
  },
  {
   "cell_type": "code",
   "execution_count": 58,
   "id": "appreciated-friend",
   "metadata": {},
   "outputs": [],
   "source": [
    "unique_movieId = list()\n",
    "with open(os.path.join(DATA_DIR, 'VAE_CF/unique_movieId.txt'), 'r') as f:\n",
    "    for line in f:\n",
    "        unique_movieId.append(int(line.strip()))\n",
    "unique_userId = list()\n",
    "with open(os.path.join(DATA_DIR, 'VAE_CF/unique_userId.txt'), 'r') as f:\n",
    "    for line in f:\n",
    "        unique_userId.append(int(line.strip()))\n",
    "\n",
    "n_items = len(unique_movieId)\n",
    "n_users = len(unique_userId)"
   ]
  },
  {
   "cell_type": "code",
   "execution_count": 59,
   "id": "active-desktop",
   "metadata": {},
   "outputs": [],
   "source": [
    "data_test_train, data_test_test = load_tr_te_data(\n",
    "    os.path.join(DATA_DIR, 'VAE_CF/test_tr.csv'),\n",
    "    os.path.join(DATA_DIR, 'VAE_CF/test_te.csv'),n_items)"
   ]
  },
  {
   "cell_type": "code",
   "execution_count": 60,
   "id": "fantastic-authentication",
   "metadata": {},
   "outputs": [],
   "source": [
    "N_test = data_test_train.shape[0]\n",
    "idxlist_test = range(N_test)\n",
    "\n",
    "batch_size_test = 2000\n",
    "total_anneal_steps = 200000\n",
    "anneal_cap = 0.2\n",
    "\n",
    "p_dims = [200, 600, n_items]\n",
    "tf.reset_default_graph()\n",
    "vae = MultiVAE(p_dims, lam=0.0)\n",
    "saver, logits_var, _, _, _ = vae.build_graph()  "
   ]
  },
  {
   "cell_type": "code",
   "execution_count": 64,
   "id": "current-documentation",
   "metadata": {},
   "outputs": [
    {
     "name": "stdout",
     "output_type": "stream",
     "text": [
      "chkpt directory: chkpt/ml-1m-holdout-ratings/VAE_anneal200.0K_cap2.0E-01/I-600-200-600-I_v2\n"
     ]
    }
   ],
   "source": [
    "arch_str = \"I-%s-I\" % ('-'.join([str(d) for d in vae.dims[1:-1]]))\n",
    "model_save_path = ''\n",
    "chkpt_dir = os.path.join(model_save_path,'chkpt/{}/VAE_anneal{}K_cap{:1.1E}/{}_v2'.format(model_name,\n",
    "    total_anneal_steps/1000, anneal_cap, arch_str))\n",
    "print(\"chkpt directory: %s\" % chkpt_dir)"
   ]
  },
  {
   "cell_type": "code",
   "execution_count": 65,
   "id": "played-display",
   "metadata": {},
   "outputs": [
    {
     "name": "stdout",
     "output_type": "stream",
     "text": [
      "Start testing...\n"
     ]
    },
    {
     "name": "stderr",
     "output_type": "stream",
     "text": [
      "/project/VAE_CF/evaluation_func.py:25: RuntimeWarning: invalid value encountered in true_divide\n",
      "  return DCG / IDCG\n",
      "/project/VAE_CF/evaluation_func.py:50: RuntimeWarning: invalid value encountered in true_divide\n",
      "  recall = tmp / np.minimum(k, X_true_binary.sum(axis=1))\n"
     ]
    },
    {
     "name": "stdout",
     "output_type": "stream",
     "text": [
      "Finish testing.\n",
      "Test NDCG@100=0.14310 (0.00176)\n",
      "Test Recall@20=0.14064 (0.00339)\n",
      "Test Recall@50=0.26685 (0.00417)\n"
     ]
    }
   ],
   "source": [
    "# 这里要load NDCG+Recall\n",
    "n100_list, r20_list, r50_list = [], [], []\n",
    "pred_all_test = np.empty(shape=(0,n_items))\n",
    "\n",
    "with tf.Session() as sess:\n",
    "    print('Start testing...')\n",
    "    saver.restore(sess, '{}/model'.format(chkpt_dir))\n",
    "\n",
    "    for bnum, st_idx in enumerate(range(0, N_test, batch_size_test)):\n",
    "        end_idx = min(st_idx + batch_size_test, N_test)\n",
    "        X = data_test_train[idxlist_test[st_idx:end_idx]]\n",
    "\n",
    "        if sparse.isspmatrix(X):\n",
    "            X = X.toarray()\n",
    "        X = X.astype('float32')\n",
    "\n",
    "        pred_val = sess.run(logits_var, feed_dict={vae.input_ph: X})\n",
    "        pred_all_test = np.concatenate((pred_all_test,pred_val),axis=0)\n",
    "        # exclude examples from training and validation (if any)\n",
    "        pred_val[X.nonzero()] = -np.inf\n",
    "        n100_list.append(NDCG_binary_at_k_batch(pred_val, data_test_test[idxlist_test[st_idx:end_idx]], k=100))\n",
    "        r20_list.append(Recall_at_k_batch(pred_val, data_test_test[idxlist_test[st_idx:end_idx]], k=20))\n",
    "        r50_list.append(Recall_at_k_batch(pred_val, data_test_test[idxlist_test[st_idx:end_idx]], k=50))\n",
    "    \n",
    "n100_list = np.concatenate(n100_list)\n",
    "r20_list = np.concatenate(r20_list)\n",
    "r50_list = np.concatenate(r50_list)\n",
    "print('Finish testing.')\n",
    "print(\"Test NDCG@100=%.5f (%.5f)\" % (np.nanmean(n100_list), np.nanstd(n100_list) / np.sqrt(len(n100_list))))\n",
    "print(\"Test Recall@20=%.5f (%.5f)\" % (np.nanmean(r20_list), np.nanstd(r20_list) / np.sqrt(len(r20_list))))\n",
    "print(\"Test Recall@50=%.5f (%.5f)\" % (np.nanmean(r50_list), np.nanstd(r50_list) / np.sqrt(len(r50_list))))"
   ]
  },
  {
   "cell_type": "code",
   "execution_count": null,
   "id": "indie-scholarship",
   "metadata": {},
   "outputs": [],
   "source": []
  }
 ],
 "metadata": {
  "accelerator": "GPU",
  "colab": {
   "name": "VAE_CF(training).ipynb",
   "provenance": []
  },
  "kernelspec": {
   "display_name": "Python 3",
   "language": "python",
   "name": "python3"
  },
  "language_info": {
   "codemirror_mode": {
    "name": "ipython",
    "version": 3
   },
   "file_extension": ".py",
   "mimetype": "text/x-python",
   "name": "python",
   "nbconvert_exporter": "python",
   "pygments_lexer": "ipython3",
   "version": "3.7.9"
  }
 },
 "nbformat": 4,
 "nbformat_minor": 5
}
